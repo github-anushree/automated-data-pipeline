{
 "cells": [
  {
   "cell_type": "raw",
   "id": "5d78a29e-a9c6-40a3-b0e5-0d49390d3eaa",
   "metadata": {},
   "source": [
    "Python Project : \n",
    "\n",
    "Revised Project Scope: \"Automated Data Pipeline & Dashboard\"\n",
    "🟢 What You Will Do (Simplified)\n",
    "✅ Fetch data from a public API (like weather or cryptocurrency prices)\n",
    "✅ Clean and transform it in Python (Pandas)\n",
    "✅ Save it to a CSV or SQLite database\n",
    "✅ Create basic visualizations in Matplotlib/Seaborn\n",
    "✅ (Optional) Build a very simple Flask web page to display the charts (only if you have time)\n",
    "\n",
    "This way, you cover:\n",
    "\n",
    "Python scripting\n",
    "\n",
    "Data manipulation\n",
    "\n",
    "API interaction\n",
    "\n",
    "Visualization\n",
    "\n",
    "…and avoid spending too much time on backend frameworks.\n",
    "\n",
    "🗓️ 10-Day Learning & Build Plan\n",
    "Below is a realistic roadmap, assuming 2 hours per day.\n",
    "\n",
    "📅 Day 1 – Get Set Up\n",
    "Goal: Install tools, understand Python basics.\n",
    "\n",
    "✅ Install:\n",
    "\n",
    "Python (latest version)\n",
    "\n",
    "VS Code (or PyCharm)\n",
    "\n",
    "pip packages:\n",
    "\n",
    "nginx\n",
    "Copy\n",
    "Edit\n",
    "pip install pandas matplotlib requests\n",
    "✅ Learn:\n",
    "\n",
    "What is Python?\n",
    "\n",
    "Basic syntax (variables, loops, functions)\n",
    "\n",
    "🔹 Resources:\n",
    "\n",
    "W3Schools Python Tutorial\n",
    "\n",
    "Practice small examples (print, for loop, simple function)\n",
    "\n",
    "📅 Day 2 – Python Data Structures & Pandas\n",
    "Goal: Understand lists, dicts, and start Pandas.\n",
    "\n",
    "✅ Learn:\n",
    "\n",
    "Lists, dictionaries\n",
    "\n",
    "Pandas DataFrames basics\n",
    "\n",
    "How to load CSV data\n",
    "\n",
    "🔹 Practice:\n",
    "\n",
    "Create a DataFrame from a dictionary\n",
    "\n",
    "Do filtering and basic statistics\n",
    "\n",
    "📅 Day 3 – Fetch Data from an API\n",
    "Goal: Learn to get data from a public API.\n",
    "\n",
    "✅ Learn:\n",
    "\n",
    "requests library\n",
    "\n",
    "JSON basics\n",
    "\n",
    "✅ Practice:\n",
    "\n",
    "Use this example:\n",
    "\n",
    "python\n",
    "Copy\n",
    "Edit\n",
    "import requests\n",
    "\n",
    "response = requests.get(\"https://api.coindesk.com/v1/bpi/currentprice.json\")\n",
    "data = response.json()\n",
    "print(data)\n",
    "Extract fields and print them\n",
    "\n",
    "📅 Day 4 – Process & Save API Data\n",
    "Goal: Convert API data to a DataFrame and save it.\n",
    "\n",
    "✅ Practice:\n",
    "\n",
    "Write a script to:\n",
    "\n",
    "Call the API\n",
    "\n",
    "Convert JSON to DataFrame\n",
    "\n",
    "Save to CSV\n",
    "\n",
    "📅 Day 5 – Data Cleaning & Transformation\n",
    "Goal: Learn basic cleaning.\n",
    "\n",
    "✅ Practice:\n",
    "\n",
    "Remove missing values\n",
    "\n",
    "Create new calculated columns\n",
    "\n",
    "Filter rows\n",
    "\n",
    "📅 Day 6 – Visualization\n",
    "Goal: Create charts.\n",
    "\n",
    "✅ Learn:\n",
    "\n",
    "Matplotlib basics (plt.plot, plt.bar)\n",
    "\n",
    "Save figures as PNG\n",
    "\n",
    "✅ Practice:\n",
    "\n",
    "Plot time series of prices (if you choose crypto or weather)\n",
    "\n",
    "Show labels, titles\n",
    "\n",
    "📅 Day 7 – Automate the Pipeline\n",
    "Goal: Combine everything.\n",
    "\n",
    "✅ Create:\n",
    "\n",
    "A script that:\n",
    "\n",
    "Fetches data\n",
    "\n",
    "Cleans data\n",
    "\n",
    "Saves data\n",
    "\n",
    "Plots charts\n",
    "\n",
    "📅 Day 8 – Intro to Flask (Optional)\n",
    "Goal: Build a simple webpage to display charts.\n",
    "\n",
    "✅ Learn:\n",
    "\n",
    "Flask basics (app.route)\n",
    "\n",
    "Serve HTML templates\n",
    "\n",
    "Show an image (your chart)\n",
    "\n",
    "🔹 If too complex, skip Flask and document your project as a script pipeline instead.\n",
    "\n",
    "📅 Day 9 – Polish & Document\n",
    "Goal: Make your project interview-ready.\n",
    "\n",
    "✅ Add:\n",
    "\n",
    "README.md\n",
    "\n",
    "Comments in code\n",
    "\n",
    "Sample output screenshots\n",
    "\n",
    "📅 Day 10 – Practice & Prepare\n",
    "Goal: Prepare to explain your project.\n",
    "\n",
    "✅ Write a 2-minute project summary.\n",
    "✅ Practice:\n",
    "\n",
    "How you fetched the data\n",
    "\n",
    "How you cleaned it\n",
    "\n",
    "How you visualized it\n",
    "\n",
    "✅ Prepare to show your code in an interview.\n",
    "\n",
    "🎁 Where to Host Your Project\n",
    "✅ GitHub Repo: Upload your .py scripts, CSV files, and screenshots.\n",
    "✅ Include:\n",
    "\n",
    "README.md (project description, instructions to run)\n",
    "\n",
    "Example data file\n",
    "\n",
    "Example chart image\n",
    "\n",
    "💡 What You Can Confidently Say in the Interview\n",
    "Even if you’re new to Python, you can say:\n",
    "\n",
    "\"I built an automated data pipeline in Python, which fetched live data from a public API, performed data cleaning and transformations in Pandas, and generated visual insights. While I am transitioning from primarily Excel and Power BI, I’m confident in my ability to apply Python to solve business problems.\"\n",
    "\n",
    "✨ Next Step\n",
    "If you like this plan, I will help you step by step starting today:\n",
    "\n",
    "✅ Day 1 – Python basics\n",
    "I can share examples and guide you through your first script.\n",
    "\n",
    "Just tell me which API you’d like to use (I recommend a simple one like:\n",
    "\n",
    "Coindesk Bitcoin Price\n",
    "\n",
    "OpenWeatherMap)\n",
    "\n",
    "Ready to get started? Let’s begin with Day 1!"
   ]
  },
  {
   "cell_type": "raw",
   "id": "3a0a6afc-5a6d-46a9-bc32-97b9a24e0743",
   "metadata": {},
   "source": [
    "DAY 1:\n",
    " Day 1 Goal\n",
    "Install Python & Jupyter\n",
    "\n",
    "Learn basic Python syntax: variables, loops, functions\n",
    "\n",
    "Create your first notebook"
   ]
  },
  {
   "cell_type": "code",
   "execution_count": 40,
   "id": "85e2b4a4-1062-49f7-bd40-82a28d54edfd",
   "metadata": {},
   "outputs": [
    {
     "name": "stdout",
     "output_type": "stream",
     "text": [
      "Sum: 15\n"
     ]
    }
   ],
   "source": [
    "#Variables & Printing\n",
    "x = 5\n",
    "y = 10\n",
    "print(\"Sum:\", x+y)"
   ]
  },
  {
   "cell_type": "code",
   "execution_count": 41,
   "id": "982c944c-9ad3-4527-9867-1cb3eeb3e6db",
   "metadata": {},
   "outputs": [
    {
     "name": "stdout",
     "output_type": "stream",
     "text": [
      "First Number 1\n"
     ]
    }
   ],
   "source": [
    "#Lists\n",
    "number= [1, 2, 3, 4, 5, 6]\n",
    "print(\"First Number\", number[0])"
   ]
  },
  {
   "cell_type": "code",
   "execution_count": 42,
   "id": "a061e99a-a39f-48e4-a7ef-b09fd58e339a",
   "metadata": {},
   "outputs": [
    {
     "name": "stdout",
     "output_type": "stream",
     "text": [
      "Name Alice\n"
     ]
    }
   ],
   "source": [
    "#Dictionaries\n",
    "person= {\"name\": \"Alice\", \"Age\": 30}\n",
    "print(\"Name\",person[\"name\"])"
   ]
  },
  {
   "cell_type": "code",
   "execution_count": 43,
   "id": "00bc218b-36a4-4818-b1a9-1ea54798c95b",
   "metadata": {},
   "outputs": [
    {
     "name": "stdout",
     "output_type": "stream",
     "text": [
      "Number: 1\n",
      "Number: 2\n",
      "Number: 3\n",
      "Number: 4\n",
      "Number: 5\n",
      "Number: 6\n"
     ]
    }
   ],
   "source": [
    "#For Loop\n",
    "for n in number:\n",
    "    \n",
    "    print(\"Number:\", n)"
   ]
  },
  {
   "cell_type": "code",
   "execution_count": 44,
   "id": "a15abf57-1cde-446f-beb7-0a52f84bc686",
   "metadata": {},
   "outputs": [
    {
     "name": "stdout",
     "output_type": "stream",
     "text": [
      "Hello Anushree\n"
     ]
    }
   ],
   "source": [
    "# Functions\n",
    "def greet(name):\n",
    "    return \"Hello\" +\" \"+  name\n",
    "\n",
    "message = greet(\"Anushree\")\n",
    "print(message)"
   ]
  },
  {
   "cell_type": "raw",
   "id": "d07b0235-3792-449e-bd02-cbabb1831e0e",
   "metadata": {},
   "source": [
    "🎯 Today’s Mini Exercise\n",
    "Practice:\n",
    "\n",
    "Create a dictionary with keys: city, temperature, unit.\n",
    "\n",
    "Print out the values.\n",
    "\n",
    "Write a function that doubles a number."
   ]
  },
  {
   "cell_type": "code",
   "execution_count": 45,
   "id": "d2783476-dd95-4921-89d1-12ba7e3525f9",
   "metadata": {},
   "outputs": [
    {
     "name": "stdout",
     "output_type": "stream",
     "text": [
      "{'City': 'Delhi', 'Temperature': 35, 'Unit': 'C'}\n",
      "Delhi\n",
      "35\n"
     ]
    }
   ],
   "source": [
    "weather= {\"City\": \"Delhi\", \"Temperature\": 35, \"Unit\": \"C\"}\n",
    "print(weather)\n",
    "print(weather[\"City\"])\n",
    "print(weather[\"Temperature\"])"
   ]
  },
  {
   "cell_type": "code",
   "execution_count": 46,
   "id": "6f56d079-c790-4c73-9eff-4546235faae6",
   "metadata": {},
   "outputs": [
    {
     "name": "stdout",
     "output_type": "stream",
     "text": [
      "8\n"
     ]
    }
   ],
   "source": [
    "def double(n):\n",
    "    return n*2\n",
    "\n",
    "result = double(4)\n",
    "print(result)"
   ]
  },
  {
   "cell_type": "raw",
   "id": "7e9c17fb-ff94-40af-ba17-6c9111e85e5c",
   "metadata": {},
   "source": [
    " Day 2 – Fetching Data from the API"
   ]
  },
  {
   "cell_type": "markdown",
   "id": "a3d2e69a-273b-40dd-a24b-47fcbfdee880",
   "metadata": {},
   "source": [
    "Today, you will:\n",
    "\n",
    "✅ Learn how to call the Coindesk Bitcoin Price API\n",
    "✅ Convert JSON data into Python objects (dictionary)\n",
    "✅ Extract and print specific data fields\n",
    "\n",
    "This is the first real step of your project—getting live data!"
   ]
  },
  {
   "cell_type": "code",
   "execution_count": 47,
   "id": "08845f10-c89a-4837-82c8-2e835b02c381",
   "metadata": {},
   "outputs": [
    {
     "name": "stdout",
     "output_type": "stream",
     "text": [
      "Defaulting to user installation because normal site-packages is not writeable\n",
      "Requirement already satisfied: requests in c:\\users\\lenovo\\appdata\\roaming\\python\\python312\\site-packages (2.32.3)\n",
      "Requirement already satisfied: charset-normalizer<4,>=2 in c:\\users\\lenovo\\appdata\\roaming\\python\\python312\\site-packages (from requests) (3.3.2)\n",
      "Requirement already satisfied: idna<4,>=2.5 in c:\\users\\lenovo\\appdata\\roaming\\python\\python312\\site-packages (from requests) (3.7)\n",
      "Requirement already satisfied: urllib3<3,>=1.21.1 in c:\\users\\lenovo\\appdata\\roaming\\python\\python312\\site-packages (from requests) (2.4.0)\n",
      "Requirement already satisfied: certifi>=2017.4.17 in c:\\users\\lenovo\\appdata\\roaming\\python\\python312\\site-packages (from requests) (2025.4.26)\n"
     ]
    }
   ],
   "source": [
    "#Step 1 – Install Required Libraries\n",
    "\n",
    "!pip  install requests"
   ]
  },
  {
   "cell_type": "raw",
   "id": "6f76d296-3379-44cd-8556-aa45858f253a",
   "metadata": {},
   "source": [
    "This installs the requests library, which lets you call web APIs easily."
   ]
  },
  {
   "cell_type": "code",
   "execution_count": 48,
   "id": "085d3e2d-98e2-48d6-8afe-06f7a39b968d",
   "metadata": {},
   "outputs": [],
   "source": [
    "#Step 2 – Fetch Data From the API"
   ]
  },
  {
   "cell_type": "code",
   "execution_count": 49,
   "id": "00c30bec-a520-4827-8546-97a352c6fb9d",
   "metadata": {},
   "outputs": [
    {
     "name": "stdout",
     "output_type": "stream",
     "text": [
      "{'people': [{'craft': 'ISS', 'name': 'Oleg Kononenko'}, {'craft': 'ISS', 'name': 'Nikolai Chub'}, {'craft': 'ISS', 'name': 'Tracy Caldwell Dyson'}, {'craft': 'ISS', 'name': 'Matthew Dominick'}, {'craft': 'ISS', 'name': 'Michael Barratt'}, {'craft': 'ISS', 'name': 'Jeanette Epps'}, {'craft': 'ISS', 'name': 'Alexander Grebenkin'}, {'craft': 'ISS', 'name': 'Butch Wilmore'}, {'craft': 'ISS', 'name': 'Sunita Williams'}, {'craft': 'Tiangong', 'name': 'Li Guangsu'}, {'craft': 'Tiangong', 'name': 'Li Cong'}, {'craft': 'Tiangong', 'name': 'Ye Guangfu'}], 'number': 12, 'message': 'success'}\n"
     ]
    }
   ],
   "source": [
    "import requests\n",
    "\n",
    "url = \"http://api.open-notify.org/astros.json\"\n",
    "response = requests.get(url)\n",
    "data = response.json()\n",
    "\n",
    "print(data)\n"
   ]
  },
  {
   "cell_type": "code",
   "execution_count": 50,
   "id": "0b601a66-bf33-483b-8de0-63452b4d6d65",
   "metadata": {},
   "outputs": [
    {
     "name": "stdout",
     "output_type": "stream",
     "text": [
      "Number of people in space: 12\n"
     ]
    }
   ],
   "source": [
    "# You can extract fields like this:\n",
    "num_people = data[\"number\"]\n",
    "print(\"Number of people in space:\", num_people)"
   ]
  },
  {
   "cell_type": "markdown",
   "id": "e325d695-af30-4e2d-82b5-29cf5c5b7122",
   "metadata": {},
   "source": [
    "Day 3 – Processing API Data with Pandas\n",
    "Today you will:\n",
    "✅ Convert the JSON data into a Pandas DataFrame\n",
    "✅ Explore and clean it\n",
    "✅ Save it as a CSV file\n",
    "\n",
    "This is an important step—it transforms raw API data into a usable dataset."
   ]
  },
  {
   "cell_type": "code",
   "execution_count": 51,
   "id": "d6255890-f1cd-4c6c-9c48-6347ac0beb0a",
   "metadata": {},
   "outputs": [],
   "source": [
    "import pandas as pd"
   ]
  },
  {
   "cell_type": "code",
   "execution_count": 52,
   "id": "5dc5cf7a-23aa-4282-a461-c9dfbf0f28d5",
   "metadata": {},
   "outputs": [
    {
     "data": {
      "text/plain": [
       "{'people': [{'name': 'Astronaut 1', 'craft': 'ISS'},\n",
       "  {'name': 'Astronaut 2', 'craft': 'ISS'},\n",
       "  Ellipsis],\n",
       " 'number': 7,\n",
       " 'message': 'success'}"
      ]
     },
     "execution_count": 52,
     "metadata": {},
     "output_type": "execute_result"
    }
   ],
   "source": [
    "#Step 3:Inspect the Data\n",
    "#Recall that you have this dictionary:\n",
    "\n",
    "{\n",
    "  'people': [\n",
    "      {'name': 'Astronaut 1', 'craft': 'ISS'},\n",
    "      {'name': 'Astronaut 2', 'craft': 'ISS'},\n",
    "      ...\n",
    "  ],\n",
    "  'number': 7,\n",
    "  'message': 'success'\n",
    "}\n"
   ]
  },
  {
   "cell_type": "code",
   "execution_count": 53,
   "id": "fd51fc44-2909-4db0-9fa7-24052d8810c4",
   "metadata": {},
   "outputs": [
    {
     "name": "stdout",
     "output_type": "stream",
     "text": [
      "       craft                  name\n",
      "0        ISS        Oleg Kononenko\n",
      "1        ISS          Nikolai Chub\n",
      "2        ISS  Tracy Caldwell Dyson\n",
      "3        ISS      Matthew Dominick\n",
      "4        ISS       Michael Barratt\n",
      "5        ISS         Jeanette Epps\n",
      "6        ISS   Alexander Grebenkin\n",
      "7        ISS         Butch Wilmore\n",
      "8        ISS       Sunita Williams\n",
      "9   Tiangong            Li Guangsu\n",
      "10  Tiangong               Li Cong\n",
      "11  Tiangong            Ye Guangfu\n"
     ]
    }
   ],
   "source": [
    "#You want to convert data[\"people\"] to a DataFrame\n",
    "\n",
    "url = \"http://api.open-notify.org/astros.json\"\n",
    "response= requests.get(url)\n",
    "data= response.json()\n",
    "\n",
    "# Extract the list of people\n",
    "people = data[\"people\"]\n",
    "\n",
    "# Convert to DataFrame\n",
    "df= pd.DataFrame(people)\n",
    "\n",
    "#show the dataframe\n",
    "print(df)"
   ]
  },
  {
   "cell_type": "markdown",
   "id": "94805e61-be84-4f1e-9198-0943c5b19afd",
   "metadata": {},
   "source": [
    "Step 4 – Clean and Process Data\n",
    "For this small dataset, there is not much cleaning needed, but you can:"
   ]
  },
  {
   "cell_type": "code",
   "execution_count": 54,
   "id": "ebdac141-9131-4259-96cb-f93e26d9093f",
   "metadata": {},
   "outputs": [],
   "source": [
    "#Rename columns for clarity:\n",
    "\n",
    "df = df.rename(columns={\"name\": \"Astronaut Name\", \"craft\": \"Spacecraft\"})"
   ]
  },
  {
   "cell_type": "code",
   "execution_count": 55,
   "id": "bae79af0-cde6-428f-9435-1145d89bda22",
   "metadata": {},
   "outputs": [],
   "source": [
    "from datetime import datetime, timezone\n",
    "\n",
    "df[\"Retrieved Time\"] = datetime.now(timezone.utc)\n"
   ]
  },
  {
   "cell_type": "code",
   "execution_count": 56,
   "id": "8ff18468-125f-4a67-928f-e680e0a75bea",
   "metadata": {},
   "outputs": [
    {
     "name": "stdout",
     "output_type": "stream",
     "text": [
      "   Spacecraft        Astronaut Name                   Retrieved Time\n",
      "0         ISS        Oleg Kononenko 2025-06-29 11:19:29.347535+00:00\n",
      "1         ISS          Nikolai Chub 2025-06-29 11:19:29.347535+00:00\n",
      "2         ISS  Tracy Caldwell Dyson 2025-06-29 11:19:29.347535+00:00\n",
      "3         ISS      Matthew Dominick 2025-06-29 11:19:29.347535+00:00\n",
      "4         ISS       Michael Barratt 2025-06-29 11:19:29.347535+00:00\n",
      "5         ISS         Jeanette Epps 2025-06-29 11:19:29.347535+00:00\n",
      "6         ISS   Alexander Grebenkin 2025-06-29 11:19:29.347535+00:00\n",
      "7         ISS         Butch Wilmore 2025-06-29 11:19:29.347535+00:00\n",
      "8         ISS       Sunita Williams 2025-06-29 11:19:29.347535+00:00\n",
      "9    Tiangong            Li Guangsu 2025-06-29 11:19:29.347535+00:00\n",
      "10   Tiangong               Li Cong 2025-06-29 11:19:29.347535+00:00\n",
      "11   Tiangong            Ye Guangfu 2025-06-29 11:19:29.347535+00:00\n"
     ]
    }
   ],
   "source": [
    "print(df)"
   ]
  },
  {
   "cell_type": "markdown",
   "id": "c16c036a-53b8-4b0a-9bed-745eb785860a",
   "metadata": {},
   "source": [
    "Step 5 – Save Data to CSV"
   ]
  },
  {
   "cell_type": "code",
   "execution_count": 57,
   "id": "b74b0290-67e5-43bd-b54d-3922837c152c",
   "metadata": {},
   "outputs": [],
   "source": [
    "#Save your data to a file you can later re-use or visualize:\n",
    "\n",
    "df.to_csv(\"astranauts_data.csv\", index= False)"
   ]
  },
  {
   "cell_type": "markdown",
   "id": "5641091a-b04e-4d3e-a222-482158daca2d",
   "metadata": {},
   "source": [
    "To practice, try this:\n",
    "\n",
    "✅ Add a new column called \"Data Source\" with value \"Open Notify API\" for all rows:"
   ]
  },
  {
   "cell_type": "code",
   "execution_count": 58,
   "id": "31ae297b-2e99-45c2-9aec-37aa2f5245b9",
   "metadata": {},
   "outputs": [
    {
     "name": "stdout",
     "output_type": "stream",
     "text": [
      "   Spacecraft        Astronaut Name                   Retrieved Time  \\\n",
      "0         ISS        Oleg Kononenko 2025-06-29 11:19:29.347535+00:00   \n",
      "1         ISS          Nikolai Chub 2025-06-29 11:19:29.347535+00:00   \n",
      "2         ISS  Tracy Caldwell Dyson 2025-06-29 11:19:29.347535+00:00   \n",
      "3         ISS      Matthew Dominick 2025-06-29 11:19:29.347535+00:00   \n",
      "4         ISS       Michael Barratt 2025-06-29 11:19:29.347535+00:00   \n",
      "5         ISS         Jeanette Epps 2025-06-29 11:19:29.347535+00:00   \n",
      "6         ISS   Alexander Grebenkin 2025-06-29 11:19:29.347535+00:00   \n",
      "7         ISS         Butch Wilmore 2025-06-29 11:19:29.347535+00:00   \n",
      "8         ISS       Sunita Williams 2025-06-29 11:19:29.347535+00:00   \n",
      "9    Tiangong            Li Guangsu 2025-06-29 11:19:29.347535+00:00   \n",
      "10   Tiangong               Li Cong 2025-06-29 11:19:29.347535+00:00   \n",
      "11   Tiangong            Ye Guangfu 2025-06-29 11:19:29.347535+00:00   \n",
      "\n",
      "        Data Source  \n",
      "0   Open Notify API  \n",
      "1   Open Notify API  \n",
      "2   Open Notify API  \n",
      "3   Open Notify API  \n",
      "4   Open Notify API  \n",
      "5   Open Notify API  \n",
      "6   Open Notify API  \n",
      "7   Open Notify API  \n",
      "8   Open Notify API  \n",
      "9   Open Notify API  \n",
      "10  Open Notify API  \n",
      "11  Open Notify API  \n"
     ]
    }
   ],
   "source": [
    "df[\"Data Source\"] = \"Open Notify API\"\n",
    "print(df)\n"
   ]
  },
  {
   "cell_type": "code",
   "execution_count": 59,
   "id": "5a432012-24e2-40fc-9345-63ac73bc696a",
   "metadata": {},
   "outputs": [],
   "source": [
    "#Save again to a new CSV file:\n",
    "\n",
    "df.to_csv(\"astronauts_data_with_source.csv\", index= False)"
   ]
  },
  {
   "cell_type": "markdown",
   "id": "0e643054-185c-4ed5-840e-9d5ceb5b5cad",
   "metadata": {},
   "source": [
    " 1️⃣ How to Extract a Column (e.g., \"Spacecraft\") from the CSV\n",
    "Assume you have already saved your CSV as astronauts_data_with_source.csv."
   ]
  },
  {
   "cell_type": "code",
   "execution_count": 60,
   "id": "4b873040-ab73-4cd8-8adc-734c636b16ce",
   "metadata": {},
   "outputs": [],
   "source": [
    " #Step 1: Read the CSV into a DataFrame\n",
    "import pandas as pd\n",
    "df = pd.read_csv(\"astronauts_data_with_source.csv\")"
   ]
  },
  {
   "cell_type": "code",
   "execution_count": 61,
   "id": "b90d286d-a791-46a8-ae8c-0fab1cd883ec",
   "metadata": {},
   "outputs": [
    {
     "name": "stdout",
     "output_type": "stream",
     "text": [
      "0          ISS\n",
      "1          ISS\n",
      "2          ISS\n",
      "3          ISS\n",
      "4          ISS\n",
      "5          ISS\n",
      "6          ISS\n",
      "7          ISS\n",
      "8          ISS\n",
      "9     Tiangong\n",
      "10    Tiangong\n",
      "11    Tiangong\n",
      "Name: Spacecraft, dtype: object\n"
     ]
    }
   ],
   "source": [
    "#Step 2: Extract the column \"Spacecraft\"\n",
    "spacecraft_column = df[\"Spacecraft\"]\n",
    "print(spacecraft_column)"
   ]
  },
  {
   "cell_type": "code",
   "execution_count": 62,
   "id": "646eaaf6-5d11-4806-b36c-80b35086027d",
   "metadata": {},
   "outputs": [
    {
     "name": "stdout",
     "output_type": "stream",
     "text": [
      "['ISS' 'Tiangong']\n"
     ]
    }
   ],
   "source": [
    "#Tip: If you want to get all unique spacecraft:\n",
    "unique_spacecraft= df[\"Spacecraft\"].unique()\n",
    "print(unique_spacecraft)"
   ]
  },
  {
   "cell_type": "code",
   "execution_count": 63,
   "id": "e5b92321-56b0-4031-a891-8956061cfcf5",
   "metadata": {},
   "outputs": [
    {
     "name": "stdout",
     "output_type": "stream",
     "text": [
      "Spacecraft\n",
      "ISS         9\n",
      "Tiangong    3\n",
      "Name: count, dtype: int64\n"
     ]
    }
   ],
   "source": [
    "#Or count how many astronauts per spacecraft:\n",
    "spacecraft_counts= df[\"Spacecraft\"].value_counts()\n",
    "print(spacecraft_counts)"
   ]
  },
  {
   "cell_type": "markdown",
   "id": "d8b399ae-0c4b-45af-99d0-7fd60d1944e5",
   "metadata": {},
   "source": [
    "2️⃣ What Other Things Can You Do With This Data?\n",
    "Here are some practical examples you can try:"
   ]
  },
  {
   "cell_type": "code",
   "execution_count": 64,
   "id": "8500c5c3-01ee-4c79-b226-3747c914763d",
   "metadata": {},
   "outputs": [
    {
     "name": "stdout",
     "output_type": "stream",
     "text": [
      "  Spacecraft        Astronaut Name                    Retrieved Time  \\\n",
      "0        ISS        Oleg Kononenko  2025-06-29 11:19:29.347535+00:00   \n",
      "1        ISS          Nikolai Chub  2025-06-29 11:19:29.347535+00:00   \n",
      "2        ISS  Tracy Caldwell Dyson  2025-06-29 11:19:29.347535+00:00   \n",
      "3        ISS      Matthew Dominick  2025-06-29 11:19:29.347535+00:00   \n",
      "4        ISS       Michael Barratt  2025-06-29 11:19:29.347535+00:00   \n",
      "5        ISS         Jeanette Epps  2025-06-29 11:19:29.347535+00:00   \n",
      "6        ISS   Alexander Grebenkin  2025-06-29 11:19:29.347535+00:00   \n",
      "7        ISS         Butch Wilmore  2025-06-29 11:19:29.347535+00:00   \n",
      "8        ISS       Sunita Williams  2025-06-29 11:19:29.347535+00:00   \n",
      "\n",
      "       Data Source  \n",
      "0  Open Notify API  \n",
      "1  Open Notify API  \n",
      "2  Open Notify API  \n",
      "3  Open Notify API  \n",
      "4  Open Notify API  \n",
      "5  Open Notify API  \n",
      "6  Open Notify API  \n",
      "7  Open Notify API  \n",
      "8  Open Notify API  \n"
     ]
    }
   ],
   "source": [
    "#A. Filtering Rows\n",
    "# Show only astronauts in a specific spacecraft:\n",
    "iss_spacecraft= df[df[\"Spacecraft\"]== \"ISS\"]\n",
    "print(iss_spacecraft)"
   ]
  },
  {
   "cell_type": "code",
   "execution_count": 65,
   "id": "48536a72-50d7-48e2-a0f9-3022cba538d5",
   "metadata": {},
   "outputs": [
    {
     "name": "stdout",
     "output_type": "stream",
     "text": [
      "   Spacecraft        Astronaut Name                    Retrieved Time  \\\n",
      "6         ISS   Alexander Grebenkin  2025-06-29 11:19:29.347535+00:00   \n",
      "7         ISS         Butch Wilmore  2025-06-29 11:19:29.347535+00:00   \n",
      "5         ISS         Jeanette Epps  2025-06-29 11:19:29.347535+00:00   \n",
      "10   Tiangong               Li Cong  2025-06-29 11:19:29.347535+00:00   \n",
      "9    Tiangong            Li Guangsu  2025-06-29 11:19:29.347535+00:00   \n",
      "3         ISS      Matthew Dominick  2025-06-29 11:19:29.347535+00:00   \n",
      "4         ISS       Michael Barratt  2025-06-29 11:19:29.347535+00:00   \n",
      "1         ISS          Nikolai Chub  2025-06-29 11:19:29.347535+00:00   \n",
      "0         ISS        Oleg Kononenko  2025-06-29 11:19:29.347535+00:00   \n",
      "8         ISS       Sunita Williams  2025-06-29 11:19:29.347535+00:00   \n",
      "2         ISS  Tracy Caldwell Dyson  2025-06-29 11:19:29.347535+00:00   \n",
      "11   Tiangong            Ye Guangfu  2025-06-29 11:19:29.347535+00:00   \n",
      "\n",
      "        Data Source  \n",
      "6   Open Notify API  \n",
      "7   Open Notify API  \n",
      "5   Open Notify API  \n",
      "10  Open Notify API  \n",
      "9   Open Notify API  \n",
      "3   Open Notify API  \n",
      "4   Open Notify API  \n",
      "1   Open Notify API  \n",
      "0   Open Notify API  \n",
      "8   Open Notify API  \n",
      "2   Open Notify API  \n",
      "11  Open Notify API  \n"
     ]
    }
   ],
   "source": [
    "# B. Sorting\n",
    "#Sort by Astronaut Name alphabetically:\n",
    "sorted_df= df.sort_values(\"Astronaut Name\")\n",
    "print(sorted_df)"
   ]
  },
  {
   "cell_type": "code",
   "execution_count": 66,
   "id": "51b52070-741f-479e-9290-f45ca5445c28",
   "metadata": {},
   "outputs": [
    {
     "name": "stdout",
     "output_type": "stream",
     "text": [
      "Total Astronauts: 12\n"
     ]
    }
   ],
   "source": [
    "#C. Counting\n",
    "#How many astronauts total?\n",
    "total_astronauts= len(df)\n",
    "print(\"Total Astronauts:\", total_astronauts )"
   ]
  },
  {
   "cell_type": "code",
   "execution_count": 67,
   "id": "d93d1d80-d24c-4b4f-a33e-79aab3a3e4b1",
   "metadata": {},
   "outputs": [
    {
     "name": "stdout",
     "output_type": "stream",
     "text": [
      "Spacecraft\n",
      "ISS         9\n",
      "Tiangong    3\n",
      "dtype: int64\n"
     ]
    }
   ],
   "source": [
    "#D. Grouping\n",
    "#Group by spacecraft and count:\n",
    "grouped = df.groupby(\"Spacecraft\").size()\n",
    "print(grouped)"
   ]
  },
  {
   "cell_type": "code",
   "execution_count": 68,
   "id": "fadba69e-1cee-4ebc-ae9a-a008b989ba3e",
   "metadata": {},
   "outputs": [],
   "source": [
    "#E. Exporting Filtered Data\n",
    "#Save only ISS astronauts to a new CSV:\n",
    "#iss_astronauts.to_csv(\"iss_astronauts.csv\", index=False)\n"
   ]
  },
  {
   "cell_type": "code",
   "execution_count": 69,
   "id": "20e64407-5251-4b4d-8571-1b7cc508b98e",
   "metadata": {},
   "outputs": [
    {
     "data": {
      "text/plain": [
       "0          ISS\n",
       "1          ISS\n",
       "2          ISS\n",
       "3          ISS\n",
       "4          ISS\n",
       "5          ISS\n",
       "6          ISS\n",
       "7          ISS\n",
       "8          ISS\n",
       "9     Tiangong\n",
       "10    Tiangong\n",
       "11    Tiangong\n",
       "Name: Spacecraft, dtype: object"
      ]
     },
     "execution_count": 69,
     "metadata": {},
     "output_type": "execute_result"
    }
   ],
   "source": [
    "#To extract a column:\n",
    "df[\"Spacecraft\"]"
   ]
  },
  {
   "cell_type": "code",
   "execution_count": 70,
   "id": "0fa35ac8-9adc-4fcf-bf08-ddae654fa916",
   "metadata": {},
   "outputs": [
    {
     "data": {
      "text/html": [
       "<div>\n",
       "<style scoped>\n",
       "    .dataframe tbody tr th:only-of-type {\n",
       "        vertical-align: middle;\n",
       "    }\n",
       "\n",
       "    .dataframe tbody tr th {\n",
       "        vertical-align: top;\n",
       "    }\n",
       "\n",
       "    .dataframe thead th {\n",
       "        text-align: right;\n",
       "    }\n",
       "</style>\n",
       "<table border=\"1\" class=\"dataframe\">\n",
       "  <thead>\n",
       "    <tr style=\"text-align: right;\">\n",
       "      <th></th>\n",
       "      <th>Spacecraft</th>\n",
       "      <th>Astronaut Name</th>\n",
       "      <th>Retrieved Time</th>\n",
       "      <th>Data Source</th>\n",
       "    </tr>\n",
       "  </thead>\n",
       "  <tbody>\n",
       "    <tr>\n",
       "      <th>0</th>\n",
       "      <td>ISS</td>\n",
       "      <td>Oleg Kononenko</td>\n",
       "      <td>2025-06-29 11:19:29.347535+00:00</td>\n",
       "      <td>Open Notify API</td>\n",
       "    </tr>\n",
       "    <tr>\n",
       "      <th>1</th>\n",
       "      <td>ISS</td>\n",
       "      <td>Nikolai Chub</td>\n",
       "      <td>2025-06-29 11:19:29.347535+00:00</td>\n",
       "      <td>Open Notify API</td>\n",
       "    </tr>\n",
       "    <tr>\n",
       "      <th>2</th>\n",
       "      <td>ISS</td>\n",
       "      <td>Tracy Caldwell Dyson</td>\n",
       "      <td>2025-06-29 11:19:29.347535+00:00</td>\n",
       "      <td>Open Notify API</td>\n",
       "    </tr>\n",
       "    <tr>\n",
       "      <th>3</th>\n",
       "      <td>ISS</td>\n",
       "      <td>Matthew Dominick</td>\n",
       "      <td>2025-06-29 11:19:29.347535+00:00</td>\n",
       "      <td>Open Notify API</td>\n",
       "    </tr>\n",
       "    <tr>\n",
       "      <th>4</th>\n",
       "      <td>ISS</td>\n",
       "      <td>Michael Barratt</td>\n",
       "      <td>2025-06-29 11:19:29.347535+00:00</td>\n",
       "      <td>Open Notify API</td>\n",
       "    </tr>\n",
       "    <tr>\n",
       "      <th>5</th>\n",
       "      <td>ISS</td>\n",
       "      <td>Jeanette Epps</td>\n",
       "      <td>2025-06-29 11:19:29.347535+00:00</td>\n",
       "      <td>Open Notify API</td>\n",
       "    </tr>\n",
       "    <tr>\n",
       "      <th>6</th>\n",
       "      <td>ISS</td>\n",
       "      <td>Alexander Grebenkin</td>\n",
       "      <td>2025-06-29 11:19:29.347535+00:00</td>\n",
       "      <td>Open Notify API</td>\n",
       "    </tr>\n",
       "    <tr>\n",
       "      <th>7</th>\n",
       "      <td>ISS</td>\n",
       "      <td>Butch Wilmore</td>\n",
       "      <td>2025-06-29 11:19:29.347535+00:00</td>\n",
       "      <td>Open Notify API</td>\n",
       "    </tr>\n",
       "    <tr>\n",
       "      <th>8</th>\n",
       "      <td>ISS</td>\n",
       "      <td>Sunita Williams</td>\n",
       "      <td>2025-06-29 11:19:29.347535+00:00</td>\n",
       "      <td>Open Notify API</td>\n",
       "    </tr>\n",
       "  </tbody>\n",
       "</table>\n",
       "</div>"
      ],
      "text/plain": [
       "  Spacecraft        Astronaut Name                    Retrieved Time  \\\n",
       "0        ISS        Oleg Kononenko  2025-06-29 11:19:29.347535+00:00   \n",
       "1        ISS          Nikolai Chub  2025-06-29 11:19:29.347535+00:00   \n",
       "2        ISS  Tracy Caldwell Dyson  2025-06-29 11:19:29.347535+00:00   \n",
       "3        ISS      Matthew Dominick  2025-06-29 11:19:29.347535+00:00   \n",
       "4        ISS       Michael Barratt  2025-06-29 11:19:29.347535+00:00   \n",
       "5        ISS         Jeanette Epps  2025-06-29 11:19:29.347535+00:00   \n",
       "6        ISS   Alexander Grebenkin  2025-06-29 11:19:29.347535+00:00   \n",
       "7        ISS         Butch Wilmore  2025-06-29 11:19:29.347535+00:00   \n",
       "8        ISS       Sunita Williams  2025-06-29 11:19:29.347535+00:00   \n",
       "\n",
       "       Data Source  \n",
       "0  Open Notify API  \n",
       "1  Open Notify API  \n",
       "2  Open Notify API  \n",
       "3  Open Notify API  \n",
       "4  Open Notify API  \n",
       "5  Open Notify API  \n",
       "6  Open Notify API  \n",
       "7  Open Notify API  \n",
       "8  Open Notify API  "
      ]
     },
     "execution_count": 70,
     "metadata": {},
     "output_type": "execute_result"
    }
   ],
   "source": [
    "#To filter rows:\n",
    "df[df[\"Spacecraft\"]==\"ISS\"]"
   ]
  },
  {
   "cell_type": "code",
   "execution_count": 71,
   "id": "d7bcdf36-51fe-467e-9fa4-e6dd23335d0a",
   "metadata": {},
   "outputs": [
    {
     "data": {
      "text/plain": [
       "12"
      ]
     },
     "execution_count": 71,
     "metadata": {},
     "output_type": "execute_result"
    }
   ],
   "source": [
    "len(df)"
   ]
  },
  {
   "cell_type": "code",
   "execution_count": 72,
   "id": "9b2d2b4b-d2da-4855-a8d6-9d9a92609751",
   "metadata": {},
   "outputs": [
    {
     "name": "stdout",
     "output_type": "stream",
     "text": [
      "   Spacecraft        Astronaut Name                    Retrieved Time  \\\n",
      "6         ISS   Alexander Grebenkin  2025-06-29 11:19:29.347535+00:00   \n",
      "7         ISS         Butch Wilmore  2025-06-29 11:19:29.347535+00:00   \n",
      "5         ISS         Jeanette Epps  2025-06-29 11:19:29.347535+00:00   \n",
      "10   Tiangong               Li Cong  2025-06-29 11:19:29.347535+00:00   \n",
      "9    Tiangong            Li Guangsu  2025-06-29 11:19:29.347535+00:00   \n",
      "3         ISS      Matthew Dominick  2025-06-29 11:19:29.347535+00:00   \n",
      "4         ISS       Michael Barratt  2025-06-29 11:19:29.347535+00:00   \n",
      "1         ISS          Nikolai Chub  2025-06-29 11:19:29.347535+00:00   \n",
      "0         ISS        Oleg Kononenko  2025-06-29 11:19:29.347535+00:00   \n",
      "8         ISS       Sunita Williams  2025-06-29 11:19:29.347535+00:00   \n",
      "2         ISS  Tracy Caldwell Dyson  2025-06-29 11:19:29.347535+00:00   \n",
      "11   Tiangong            Ye Guangfu  2025-06-29 11:19:29.347535+00:00   \n",
      "\n",
      "        Data Source  \n",
      "6   Open Notify API  \n",
      "7   Open Notify API  \n",
      "5   Open Notify API  \n",
      "10  Open Notify API  \n",
      "9   Open Notify API  \n",
      "3   Open Notify API  \n",
      "4   Open Notify API  \n",
      "1   Open Notify API  \n",
      "0   Open Notify API  \n",
      "8   Open Notify API  \n",
      "2   Open Notify API  \n",
      "11  Open Notify API  \n"
     ]
    }
   ],
   "source": [
    "sorted_values= df.sort_values(\"Astronaut Name\")\n",
    "print(sorted_values)\n"
   ]
  },
  {
   "cell_type": "markdown",
   "id": "4e59251b-299d-4ed9-bffb-30aac0d0b394",
   "metadata": {},
   "source": [
    " Advanced Examples"
   ]
  },
  {
   "cell_type": "markdown",
   "id": "fd14638d-8512-4ba3-a098-df0adf98f098",
   "metadata": {},
   "source": [
    " 1️⃣ Pivot Tables\n",
    "What is it?\n",
    "A pivot table summarizes data, grouping and aggregating by categories.\n",
    "\n",
    "✅ Example: Count astronauts per spacecraft."
   ]
  },
  {
   "cell_type": "code",
   "execution_count": 73,
   "id": "c4271e74-d034-46e4-9305-f4e8d1d3727e",
   "metadata": {},
   "outputs": [
    {
     "name": "stdout",
     "output_type": "stream",
     "text": [
      "            Astronaut Name\n",
      "Spacecraft                \n",
      "ISS                      9\n",
      "Tiangong                 3\n"
     ]
    }
   ],
   "source": [
    "pivot = pd.pivot_table(\n",
    "    df,\n",
    "    index = \"Spacecraft\",  # Group by Spacecraft\n",
    "    values = \"Astronaut Name\", # What to count\n",
    "    aggfunc= \"count\"   # Count rows\n",
    ")\n",
    "print(pivot)"
   ]
  },
  {
   "cell_type": "code",
   "execution_count": 74,
   "id": "8e7a176f-4692-4b74-a6cf-58549dc5c787",
   "metadata": {},
   "outputs": [
    {
     "name": "stdout",
     "output_type": "stream",
     "text": [
      "                  Astronaut Name\n",
      "Spacecraft                      \n",
      "ISS         Tracy Caldwell Dyson\n",
      "Tiangong              Ye Guangfu\n"
     ]
    }
   ],
   "source": [
    "pivot= pd.pivot_table(\n",
    "    df,\n",
    "    index= \"Spacecraft\",\n",
    "    values= \"Astronaut Name\",\n",
    "    aggfunc= \"max\"\n",
    ")\n",
    "print(pivot)"
   ]
  },
  {
   "cell_type": "markdown",
   "id": "95ae13a7-b9e4-4103-ba49-5c4ff47a6e7b",
   "metadata": {},
   "source": [
    " You can also use different aggregation functions:\n",
    "\n",
    "\"count\"\n",
    "\n",
    "\"first\"\n",
    "\n",
    "\"last\"\n",
    "\n",
    "\"max\"\n",
    "\n",
    "\"min\"\n",
    "\n",
    "Example:"
   ]
  },
  {
   "cell_type": "code",
   "execution_count": 75,
   "id": "e6961b81-3834-4190-be6d-9ad2bbc5b281",
   "metadata": {},
   "outputs": [
    {
     "name": "stdout",
     "output_type": "stream",
     "text": [
      "            Astronaut Name\n",
      "Spacecraft                \n",
      "ISS         Oleg Kononenko\n",
      "Tiangong        Li Guangsu\n"
     ]
    }
   ],
   "source": [
    "pivot = pd.pivot_table(\n",
    "    df,\n",
    "    index=\"Spacecraft\",\n",
    "    values=\"Astronaut Name\",\n",
    "    aggfunc=\"first\"  # Show the first astronaut name per spacecraft\n",
    ")\n",
    "print(pivot)\n"
   ]
  },
  {
   "cell_type": "markdown",
   "id": "a27162e6-9a3a-4f59-b051-f7949f671509",
   "metadata": {},
   "source": [
    "Merging DataFrames\n",
    "What is it?\n",
    "Merging (joining) combines two DataFrames based on a common column."
   ]
  },
  {
   "cell_type": "raw",
   "id": "10374d40-55b5-49c6-bf27-79a71780082b",
   "metadata": {},
   "source": [
    "✅ Example:\n",
    "Suppose you have another CSV file spacecraft_info.csv like:\n",
    "\n",
    "Spacecraft\tCountry\n",
    "ISS\tInternational\n",
    "Shenzhou\tChina"
   ]
  },
  {
   "cell_type": "code",
   "execution_count": 76,
   "id": "3a4514ee-6b29-4954-9ba6-8a0b4dcb6fb2",
   "metadata": {},
   "outputs": [],
   "source": [
    "#Step 1: Read it:\n",
    "spacecraft_info= pd.DataFrame({\n",
    "    \"Spacecraft\":[\"ISS\",\"Shenzhou\"],\n",
    "    \"Country\":[\"International\",\"China\"]\n",
    "})"
   ]
  },
  {
   "cell_type": "code",
   "execution_count": 77,
   "id": "90f0ebc6-90fe-4fbe-abb7-a32f52ff37c8",
   "metadata": {},
   "outputs": [
    {
     "name": "stdout",
     "output_type": "stream",
     "text": [
      "   Spacecraft        Astronaut Name                    Retrieved Time  \\\n",
      "0         ISS        Oleg Kononenko  2025-06-29 11:19:29.347535+00:00   \n",
      "1         ISS          Nikolai Chub  2025-06-29 11:19:29.347535+00:00   \n",
      "2         ISS  Tracy Caldwell Dyson  2025-06-29 11:19:29.347535+00:00   \n",
      "3         ISS      Matthew Dominick  2025-06-29 11:19:29.347535+00:00   \n",
      "4         ISS       Michael Barratt  2025-06-29 11:19:29.347535+00:00   \n",
      "5         ISS         Jeanette Epps  2025-06-29 11:19:29.347535+00:00   \n",
      "6         ISS   Alexander Grebenkin  2025-06-29 11:19:29.347535+00:00   \n",
      "7         ISS         Butch Wilmore  2025-06-29 11:19:29.347535+00:00   \n",
      "8         ISS       Sunita Williams  2025-06-29 11:19:29.347535+00:00   \n",
      "9    Tiangong            Li Guangsu  2025-06-29 11:19:29.347535+00:00   \n",
      "10   Tiangong               Li Cong  2025-06-29 11:19:29.347535+00:00   \n",
      "11   Tiangong            Ye Guangfu  2025-06-29 11:19:29.347535+00:00   \n",
      "\n",
      "        Data Source        Country  \n",
      "0   Open Notify API  International  \n",
      "1   Open Notify API  International  \n",
      "2   Open Notify API  International  \n",
      "3   Open Notify API  International  \n",
      "4   Open Notify API  International  \n",
      "5   Open Notify API  International  \n",
      "6   Open Notify API  International  \n",
      "7   Open Notify API  International  \n",
      "8   Open Notify API  International  \n",
      "9   Open Notify API            NaN  \n",
      "10  Open Notify API            NaN  \n",
      "11  Open Notify API            NaN  \n"
     ]
    }
   ],
   "source": [
    "#Step 2: Merge with your astronauts DataFrame:\n",
    "merged_df= pd.merge(df,spacecraft_info, on=\"Spacecraft\", how=\"left\")\n",
    "print(merged_df)"
   ]
  },
  {
   "cell_type": "markdown",
   "id": "c20eea8e-24e8-40d5-b64c-60fc10d9b956",
   "metadata": {},
   "source": [
    "3️⃣ Time-Based Filtering\n",
    "What is it?\n",
    "Selecting rows based on dates or times.\n",
    "\n",
    "✅ Example:\n",
    "Suppose you saved data multiple times and have different timestamps in Retrieved Time."
   ]
  },
  {
   "cell_type": "code",
   "execution_count": 78,
   "id": "8e3aecc9-6f4e-4e86-aa10-105caada0e9b",
   "metadata": {},
   "outputs": [
    {
     "ename": "AttributeError",
     "evalue": "module 'pandas' has no attribute 'to_datatime'",
     "output_type": "error",
     "traceback": [
      "\u001b[1;31m---------------------------------------------------------------------------\u001b[0m",
      "\u001b[1;31mAttributeError\u001b[0m                            Traceback (most recent call last)",
      "Cell \u001b[1;32mIn[78], line 2\u001b[0m\n\u001b[0;32m      1\u001b[0m \u001b[38;5;66;03m#Convert to datetime format (if it isn’t already):\u001b[39;00m\n\u001b[1;32m----> 2\u001b[0m df[\u001b[38;5;124m\"\u001b[39m\u001b[38;5;124mRetrieved Time\u001b[39m\u001b[38;5;124m\"\u001b[39m]\u001b[38;5;241m=\u001b[39m \u001b[43mpd\u001b[49m\u001b[38;5;241;43m.\u001b[39;49m\u001b[43mto_datatime\u001b[49m(df[\u001b[38;5;124m\"\u001b[39m\u001b[38;5;124mRetrived Time\u001b[39m\u001b[38;5;124m\"\u001b[39m])\n",
      "\u001b[1;31mAttributeError\u001b[0m: module 'pandas' has no attribute 'to_datatime'"
     ]
    }
   ],
   "source": [
    "#Convert to datetime format (if it isn’t already):\n",
    "df[\"Retrieved Time\"]= pd.to_datatime(df[\"Retrived Time\"])"
   ]
  },
  {
   "cell_type": "code",
   "execution_count": null,
   "id": "bec69cae-9599-4587-85f7-ec51c437fa7a",
   "metadata": {},
   "outputs": [],
   "source": [
    "#Filter rows retrieved after a certain date:\n",
    "filtered= df[df[\"Retrieved Time\"]> \"2025-06-28\"]\n",
    "print(filtered)"
   ]
  },
  {
   "cell_type": "code",
   "execution_count": null,
   "id": "7a2843c1-255b-4a6b-b3c3-96e34023c491",
   "metadata": {},
   "outputs": [],
   "source": [
    "#Save final results to CSV or Excel:\n",
    "merged_df.to_csv(\"merged_astronaut_data.csv\", index= False)"
   ]
  },
  {
   "cell_type": "code",
   "execution_count": null,
   "id": "8da3da8f-ca16-44e5-981f-117a9bb5d899",
   "metadata": {},
   "outputs": [],
   "source": [
    "#Or export to Excel:\n",
    "merged_df.to_excel(\"merged_astronaut_data.xlsx\", index= False)"
   ]
  },
  {
   "cell_type": "markdown",
   "id": "aae37c09-d570-424b-bf73-545a8a83451c",
   "metadata": {},
   "source": [
    "Day 4 – Creating Visualizations with Matplotlib"
   ]
  },
  {
   "cell_type": "markdown",
   "id": "4f852e1a-d33a-49ea-8a2d-b9946f5b8a45",
   "metadata": {},
   "source": [
    "Today you will learn:\n",
    "✅ How to create basic charts in Python\n",
    "✅ How to customize them (titles, labels, colors)\n",
    "✅ How to save them as image files\n",
    "\n",
    "Charts help make your project professional and clear.\n",
    "\n",
    "Step 1 – Install Matplotlib\n",
    "First, install Matplotlib (if not already installed).\n",
    "Step 2 – Import Matplotlib\n",
    "Add this to a cell:"
   ]
  },
  {
   "cell_type": "code",
   "execution_count": null,
   "id": "3c1bc131-271a-4115-a06c-90b111e7f001",
   "metadata": {},
   "outputs": [],
   "source": [
    "import matplotlib.pyplot as plt"
   ]
  },
  {
   "cell_type": "markdown",
   "id": "c53cb1f4-f177-47a3-97ac-925fc112ad3e",
   "metadata": {},
   "source": [
    "pyplot is the part of Matplotlib you use to create charts."
   ]
  },
  {
   "cell_type": "markdown",
   "id": "6586b885-de2b-44c3-9e20-b1b00402c3dc",
   "metadata": {},
   "source": [
    "Step 3 – Create a Simple Bar Chart\n",
    "Example: Number of astronauts per spacecraft."
   ]
  },
  {
   "cell_type": "code",
   "execution_count": null,
   "id": "acfbf141-56a8-4fc7-a133-034d73b69667",
   "metadata": {},
   "outputs": [],
   "source": [
    "#Use your DataFrame df:\n",
    "## Count astronauts per spacecraft\n",
    "counts= df[\"Spacecraft\"].value_counts()\n",
    "\n",
    "## Create bar chart\n",
    "plt.figure(figsize=(6,4))\n",
    "plt.bar(counts.index, counts.values, color=\"skyblue\")\n",
    "\n",
    "#Add labels and titles\n",
    "plt.xlabel(\"Spacecraft\")\n",
    "plt.ylabel(\"Number of Astronauts\")\n",
    "plt.title(\"Astronauts per Spacecraft\")\n",
    "\n",
    "#show the chart\n",
    "plt.show()"
   ]
  },
  {
   "cell_type": "code",
   "execution_count": null,
   "id": "8fd8c28d-243f-418d-9ea9-52eaa0295ebf",
   "metadata": {},
   "outputs": [],
   "source": [
    "#Step 4 – Customize Your Chart\n",
    "#Try changing colors, adding grid lines, and rotating labels:\n",
    "plt.figure(figsize=(6,4))\n",
    "plt.bar(counts.index, counts.values, color = \"lightgreen\")\n",
    "plt.xlabel(\"Spacecraft\")\n",
    "plt.ylabel(\"Count\")\n",
    "plt.title(\"Astronout Count per Spacecraft\")\n",
    "plt.grid(axis= \"y\")\n",
    "plt.xticks(rotation=45)\n",
    "plt.show()"
   ]
  },
  {
   "cell_type": "code",
   "execution_count": null,
   "id": "b034c015-1190-448e-a4bc-c11e61cf27bc",
   "metadata": {},
   "outputs": [],
   "source": [
    "# Step 5 – Save the Chart as a PNG\n",
    "#You can save the figure to use in presentations or your project portfolio:\n",
    "plt.figure(figsize=(6,4))\n",
    "plt.bar(counts.index, counts.values, color=\"coral\")\n",
    "plt.xlabel(\"Spacecraft\")\n",
    "plt.ylabel(\"Number of Astronaut\")\n",
    "plt.title(\"Artronaut per spacecraft\")\n",
    "plt.grid(axis=\"y\")\n",
    "plt.savefig(\"Astronaut_per_spacecraft.png\")\n",
    "plt.close()"
   ]
  },
  {
   "cell_type": "markdown",
   "id": "de305808-63ef-49d3-873e-02af2dc0e4d9",
   "metadata": {},
   "source": [
    "This creates an image file in your working directory."
   ]
  },
  {
   "cell_type": "markdown",
   "id": "729f5669-3db7-44d5-8219-bbb8c7c71323",
   "metadata": {},
   "source": [
    "Step 6 – Create a Pie Chart\n",
    "\n",
    "To visualize the proportion of astronauts per spacecraft:"
   ]
  },
  {
   "cell_type": "code",
   "execution_count": null,
   "id": "21b477f2-60d9-41f1-b99c-1ff4aeb0195c",
   "metadata": {},
   "outputs": [],
   "source": [
    "plt.figure(figsize=(6,6))\n",
    "plt.pie(\n",
    "    counts.values,\n",
    "    labels=counts.index,\n",
    "    autopct=\"%1.1f%%\",\n",
    "    startangle=90,\n",
    "    colors=[\"gold\", \"lightblue\", \"lightcoral\"]\n",
    ")\n",
    "plt.savefig(\"Distribution of Astronauts by Spacecraft.png\")\n",
    "plt.title(\"Distribution of Astronauts by Spacecraft\")\n",
    "plt.show()"
   ]
  },
  {
   "cell_type": "markdown",
   "id": "9158dbfa-201c-4469-a0db-c3d18088668f",
   "metadata": {},
   "source": [
    "Step 7 – Line Chart (if you have time series)\n",
    "If you collected data over time, you can plot how the count changed.\n",
    "Since your current dataset has one timestamp, you might skip this for now.\n",
    "Later, when you append more rows over days, you can do this.\n",
    "\n"
   ]
  },
  {
   "cell_type": "raw",
   "id": "d7c393e3-506b-4e96-83dd-4b7c57fe85e7",
   "metadata": {},
   "source": [
    "Mini Exercise for Today\n",
    "Create:\n",
    "\n",
    "One bar chart\n",
    "\n",
    "One pie chart\n",
    "\n",
    "Save at least one of them as a PNG file\n",
    "\n",
    "Experiment:\n",
    "\n",
    "Change colors\n",
    "\n",
    "Modify titles\n",
    "\n",
    "Rotate labels"
   ]
  },
  {
   "cell_type": "code",
   "execution_count": null,
   "id": "4494efaa-1f76-442f-81aa-0201d82d8a4a",
   "metadata": {},
   "outputs": [],
   "source": [
    "print(df)"
   ]
  },
  {
   "cell_type": "code",
   "execution_count": null,
   "id": "413f5098-2056-43ce-b095-8fba3026c0e3",
   "metadata": {},
   "outputs": [],
   "source": [
    "print(merged_df)"
   ]
  },
  {
   "cell_type": "code",
   "execution_count": null,
   "id": "9fb8ff5d-b7e4-4465-a985-f1e76600fe50",
   "metadata": {},
   "outputs": [],
   "source": [
    "#One bar chart\n",
    "#count spacecraft by country in merged_df\n",
    "counts= merged_df[\"Astronaut Name\"]\n",
    "\n",
    "#create a bar chart\n",
    "plt.figure(figsize=(8,6))\n",
    "plt.bar(counts.index, counts.values, color=\"skyblue\")\n",
    "plt.xlabel(\"Spacecraft\")\n",
    "plt.ylabel(\"Astronaut Name\")\n",
    "plt.title(\"Astronaut Name by Spacecraft\")\n",
    "plt.xticks(rotation=45)\n",
    "plt.grid(axis=\"y\")\n",
    "plt.tight_layout()\n",
    "plt.show()"
   ]
  },
  {
   "cell_type": "code",
   "execution_count": null,
   "id": "9bd80b4b-d3fb-4a05-aeae-499b71bfe493",
   "metadata": {},
   "outputs": [],
   "source": [
    "#bar chart\n",
    "\n",
    "counts= merged_df[\"Spacecraft\"].value_counts()\n",
    "\n",
    "# Create a pie chart from the same data\n",
    "plt.figure(figsize=(8,6))\n",
    "plt.pie(counts.values, labels=counts.index, autopct=\"%1.1f%%\", startangle=140,\n",
    "    colors= [\"Red\", \"lightblue\", \"lightcoral\"]\n",
    ")\n",
    "plt.title(\"Astronaut Distribution By spacecraft\")\n",
    "plt.axis(\"equal\")  # Equal aspect ratio to make it a circle\n",
    "plt.savefig(\"Astronaut Distribution By spacecraft.png\")\n",
    "plt.show()"
   ]
  },
  {
   "cell_type": "markdown",
   "id": "51dbc08a-01df-4402-ac51-117b9b14935d",
   "metadata": {},
   "source": [
    "Day 5 – Automating the Whole Pipeline\n",
    "Today, you’ll learn to:\n",
    "✅ Combine all the steps you’ve done so far\n",
    "✅ Write one script that:\n",
    "\n",
    "Fetches data from the API\n",
    "\n",
    "Converts it to a DataFrame\n",
    "\n",
    "Saves it to CSV\n",
    "\n",
    "Creates and saves a chart\n",
    "\n",
    "This is what real projects look like—automated, repeatable workflows."
   ]
  },
  {
   "cell_type": "markdown",
   "id": "1de9c3bf-9ec1-4655-bbba-d5e8693a28b3",
   "metadata": {},
   "source": [
    "Step 1 – Review What You Have\n",
    "Until now, you have done:\n",
    "\n",
    "Fetch data from the API (requests)\n",
    "\n",
    "Convert data to a DataFrame (pandas)\n",
    "\n",
    "Save CSV files\n",
    "\n",
    "Create charts (matplotlib)\n",
    "\n",
    "Today, you will put it all into a single pipeline."
   ]
  },
  {
   "cell_type": "markdown",
   "id": "254cadfa-1760-402a-bcd3-62322a8b044c",
   "metadata": {},
   "source": [
    "Step 2 – Create a New Jupyter Notebook Cell\n",
    "Paste the full pipeline code below:\n",
    "\n",
    "next jupyter notebook: Automated Data Pipeline2"
   ]
  }
 ],
 "metadata": {
  "kernelspec": {
   "display_name": "Python 3 (ipykernel)",
   "language": "python",
   "name": "python3"
  },
  "language_info": {
   "codemirror_mode": {
    "name": "ipython",
    "version": 3
   },
   "file_extension": ".py",
   "mimetype": "text/x-python",
   "name": "python",
   "nbconvert_exporter": "python",
   "pygments_lexer": "ipython3",
   "version": "3.12.7"
  }
 },
 "nbformat": 4,
 "nbformat_minor": 5
}
