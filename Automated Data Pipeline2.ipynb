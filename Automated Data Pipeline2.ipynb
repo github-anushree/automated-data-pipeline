{
 "cells": [
  {
   "cell_type": "code",
   "execution_count": 15,
   "id": "b6e17c36-1eba-4553-9542-7042d3925362",
   "metadata": {},
   "outputs": [],
   "source": [
    "import requests\n",
    "import pandas as pd\n",
    "import matplotlib.pyplot as plt\n",
    "from datetime import datetime, timezone"
   ]
  },
  {
   "cell_type": "code",
   "execution_count": 16,
   "id": "ca0c13de-d3f0-48c9-bdf6-f1d3323becc3",
   "metadata": {},
   "outputs": [
    {
     "ename": "ConnectTimeout",
     "evalue": "HTTPConnectionPool(host='api.open-notify.org', port=80): Max retries exceeded with url: /astros.json (Caused by ConnectTimeoutError(<urllib3.connection.HTTPConnection object at 0x000001F28DDCDAF0>, 'Connection to api.open-notify.org timed out. (connect timeout=None)'))",
     "output_type": "error",
     "traceback": [
      "\u001b[1;31m---------------------------------------------------------------------------\u001b[0m",
      "\u001b[1;31mTimeoutError\u001b[0m                              Traceback (most recent call last)",
      "File \u001b[1;32m~\\AppData\\Roaming\\Python\\Python312\\site-packages\\urllib3\\connection.py:198\u001b[0m, in \u001b[0;36mHTTPConnection._new_conn\u001b[1;34m(self)\u001b[0m\n\u001b[0;32m    197\u001b[0m \u001b[38;5;28;01mtry\u001b[39;00m:\n\u001b[1;32m--> 198\u001b[0m     sock \u001b[38;5;241m=\u001b[39m \u001b[43mconnection\u001b[49m\u001b[38;5;241;43m.\u001b[39;49m\u001b[43mcreate_connection\u001b[49m\u001b[43m(\u001b[49m\n\u001b[0;32m    199\u001b[0m \u001b[43m        \u001b[49m\u001b[43m(\u001b[49m\u001b[38;5;28;43mself\u001b[39;49m\u001b[38;5;241;43m.\u001b[39;49m\u001b[43m_dns_host\u001b[49m\u001b[43m,\u001b[49m\u001b[43m \u001b[49m\u001b[38;5;28;43mself\u001b[39;49m\u001b[38;5;241;43m.\u001b[39;49m\u001b[43mport\u001b[49m\u001b[43m)\u001b[49m\u001b[43m,\u001b[49m\n\u001b[0;32m    200\u001b[0m \u001b[43m        \u001b[49m\u001b[38;5;28;43mself\u001b[39;49m\u001b[38;5;241;43m.\u001b[39;49m\u001b[43mtimeout\u001b[49m\u001b[43m,\u001b[49m\n\u001b[0;32m    201\u001b[0m \u001b[43m        \u001b[49m\u001b[43msource_address\u001b[49m\u001b[38;5;241;43m=\u001b[39;49m\u001b[38;5;28;43mself\u001b[39;49m\u001b[38;5;241;43m.\u001b[39;49m\u001b[43msource_address\u001b[49m\u001b[43m,\u001b[49m\n\u001b[0;32m    202\u001b[0m \u001b[43m        \u001b[49m\u001b[43msocket_options\u001b[49m\u001b[38;5;241;43m=\u001b[39;49m\u001b[38;5;28;43mself\u001b[39;49m\u001b[38;5;241;43m.\u001b[39;49m\u001b[43msocket_options\u001b[49m\u001b[43m,\u001b[49m\n\u001b[0;32m    203\u001b[0m \u001b[43m    \u001b[49m\u001b[43m)\u001b[49m\n\u001b[0;32m    204\u001b[0m \u001b[38;5;28;01mexcept\u001b[39;00m socket\u001b[38;5;241m.\u001b[39mgaierror \u001b[38;5;28;01mas\u001b[39;00m e:\n",
      "File \u001b[1;32m~\\AppData\\Roaming\\Python\\Python312\\site-packages\\urllib3\\util\\connection.py:85\u001b[0m, in \u001b[0;36mcreate_connection\u001b[1;34m(address, timeout, source_address, socket_options)\u001b[0m\n\u001b[0;32m     84\u001b[0m \u001b[38;5;28;01mtry\u001b[39;00m:\n\u001b[1;32m---> 85\u001b[0m     \u001b[38;5;28;01mraise\u001b[39;00m err\n\u001b[0;32m     86\u001b[0m \u001b[38;5;28;01mfinally\u001b[39;00m:\n\u001b[0;32m     87\u001b[0m     \u001b[38;5;66;03m# Break explicitly a reference cycle\u001b[39;00m\n",
      "File \u001b[1;32m~\\AppData\\Roaming\\Python\\Python312\\site-packages\\urllib3\\util\\connection.py:73\u001b[0m, in \u001b[0;36mcreate_connection\u001b[1;34m(address, timeout, source_address, socket_options)\u001b[0m\n\u001b[0;32m     72\u001b[0m     sock\u001b[38;5;241m.\u001b[39mbind(source_address)\n\u001b[1;32m---> 73\u001b[0m \u001b[43msock\u001b[49m\u001b[38;5;241;43m.\u001b[39;49m\u001b[43mconnect\u001b[49m\u001b[43m(\u001b[49m\u001b[43msa\u001b[49m\u001b[43m)\u001b[49m\n\u001b[0;32m     74\u001b[0m \u001b[38;5;66;03m# Break explicitly a reference cycle\u001b[39;00m\n",
      "\u001b[1;31mTimeoutError\u001b[0m: [WinError 10060] A connection attempt failed because the connected party did not properly respond after a period of time, or established connection failed because connected host has failed to respond",
      "\nThe above exception was the direct cause of the following exception:\n",
      "\u001b[1;31mConnectTimeoutError\u001b[0m                       Traceback (most recent call last)",
      "File \u001b[1;32m~\\AppData\\Roaming\\Python\\Python312\\site-packages\\urllib3\\connectionpool.py:787\u001b[0m, in \u001b[0;36mHTTPConnectionPool.urlopen\u001b[1;34m(self, method, url, body, headers, retries, redirect, assert_same_host, timeout, pool_timeout, release_conn, chunked, body_pos, preload_content, decode_content, **response_kw)\u001b[0m\n\u001b[0;32m    786\u001b[0m \u001b[38;5;66;03m# Make the request on the HTTPConnection object\u001b[39;00m\n\u001b[1;32m--> 787\u001b[0m response \u001b[38;5;241m=\u001b[39m \u001b[38;5;28;43mself\u001b[39;49m\u001b[38;5;241;43m.\u001b[39;49m\u001b[43m_make_request\u001b[49m\u001b[43m(\u001b[49m\n\u001b[0;32m    788\u001b[0m \u001b[43m    \u001b[49m\u001b[43mconn\u001b[49m\u001b[43m,\u001b[49m\n\u001b[0;32m    789\u001b[0m \u001b[43m    \u001b[49m\u001b[43mmethod\u001b[49m\u001b[43m,\u001b[49m\n\u001b[0;32m    790\u001b[0m \u001b[43m    \u001b[49m\u001b[43murl\u001b[49m\u001b[43m,\u001b[49m\n\u001b[0;32m    791\u001b[0m \u001b[43m    \u001b[49m\u001b[43mtimeout\u001b[49m\u001b[38;5;241;43m=\u001b[39;49m\u001b[43mtimeout_obj\u001b[49m\u001b[43m,\u001b[49m\n\u001b[0;32m    792\u001b[0m \u001b[43m    \u001b[49m\u001b[43mbody\u001b[49m\u001b[38;5;241;43m=\u001b[39;49m\u001b[43mbody\u001b[49m\u001b[43m,\u001b[49m\n\u001b[0;32m    793\u001b[0m \u001b[43m    \u001b[49m\u001b[43mheaders\u001b[49m\u001b[38;5;241;43m=\u001b[39;49m\u001b[43mheaders\u001b[49m\u001b[43m,\u001b[49m\n\u001b[0;32m    794\u001b[0m \u001b[43m    \u001b[49m\u001b[43mchunked\u001b[49m\u001b[38;5;241;43m=\u001b[39;49m\u001b[43mchunked\u001b[49m\u001b[43m,\u001b[49m\n\u001b[0;32m    795\u001b[0m \u001b[43m    \u001b[49m\u001b[43mretries\u001b[49m\u001b[38;5;241;43m=\u001b[39;49m\u001b[43mretries\u001b[49m\u001b[43m,\u001b[49m\n\u001b[0;32m    796\u001b[0m \u001b[43m    \u001b[49m\u001b[43mresponse_conn\u001b[49m\u001b[38;5;241;43m=\u001b[39;49m\u001b[43mresponse_conn\u001b[49m\u001b[43m,\u001b[49m\n\u001b[0;32m    797\u001b[0m \u001b[43m    \u001b[49m\u001b[43mpreload_content\u001b[49m\u001b[38;5;241;43m=\u001b[39;49m\u001b[43mpreload_content\u001b[49m\u001b[43m,\u001b[49m\n\u001b[0;32m    798\u001b[0m \u001b[43m    \u001b[49m\u001b[43mdecode_content\u001b[49m\u001b[38;5;241;43m=\u001b[39;49m\u001b[43mdecode_content\u001b[49m\u001b[43m,\u001b[49m\n\u001b[0;32m    799\u001b[0m \u001b[43m    \u001b[49m\u001b[38;5;241;43m*\u001b[39;49m\u001b[38;5;241;43m*\u001b[39;49m\u001b[43mresponse_kw\u001b[49m\u001b[43m,\u001b[49m\n\u001b[0;32m    800\u001b[0m \u001b[43m\u001b[49m\u001b[43m)\u001b[49m\n\u001b[0;32m    802\u001b[0m \u001b[38;5;66;03m# Everything went great!\u001b[39;00m\n",
      "File \u001b[1;32m~\\AppData\\Roaming\\Python\\Python312\\site-packages\\urllib3\\connectionpool.py:493\u001b[0m, in \u001b[0;36mHTTPConnectionPool._make_request\u001b[1;34m(self, conn, method, url, body, headers, retries, timeout, chunked, response_conn, preload_content, decode_content, enforce_content_length)\u001b[0m\n\u001b[0;32m    492\u001b[0m \u001b[38;5;28;01mtry\u001b[39;00m:\n\u001b[1;32m--> 493\u001b[0m     \u001b[43mconn\u001b[49m\u001b[38;5;241;43m.\u001b[39;49m\u001b[43mrequest\u001b[49m\u001b[43m(\u001b[49m\n\u001b[0;32m    494\u001b[0m \u001b[43m        \u001b[49m\u001b[43mmethod\u001b[49m\u001b[43m,\u001b[49m\n\u001b[0;32m    495\u001b[0m \u001b[43m        \u001b[49m\u001b[43murl\u001b[49m\u001b[43m,\u001b[49m\n\u001b[0;32m    496\u001b[0m \u001b[43m        \u001b[49m\u001b[43mbody\u001b[49m\u001b[38;5;241;43m=\u001b[39;49m\u001b[43mbody\u001b[49m\u001b[43m,\u001b[49m\n\u001b[0;32m    497\u001b[0m \u001b[43m        \u001b[49m\u001b[43mheaders\u001b[49m\u001b[38;5;241;43m=\u001b[39;49m\u001b[43mheaders\u001b[49m\u001b[43m,\u001b[49m\n\u001b[0;32m    498\u001b[0m \u001b[43m        \u001b[49m\u001b[43mchunked\u001b[49m\u001b[38;5;241;43m=\u001b[39;49m\u001b[43mchunked\u001b[49m\u001b[43m,\u001b[49m\n\u001b[0;32m    499\u001b[0m \u001b[43m        \u001b[49m\u001b[43mpreload_content\u001b[49m\u001b[38;5;241;43m=\u001b[39;49m\u001b[43mpreload_content\u001b[49m\u001b[43m,\u001b[49m\n\u001b[0;32m    500\u001b[0m \u001b[43m        \u001b[49m\u001b[43mdecode_content\u001b[49m\u001b[38;5;241;43m=\u001b[39;49m\u001b[43mdecode_content\u001b[49m\u001b[43m,\u001b[49m\n\u001b[0;32m    501\u001b[0m \u001b[43m        \u001b[49m\u001b[43menforce_content_length\u001b[49m\u001b[38;5;241;43m=\u001b[39;49m\u001b[43menforce_content_length\u001b[49m\u001b[43m,\u001b[49m\n\u001b[0;32m    502\u001b[0m \u001b[43m    \u001b[49m\u001b[43m)\u001b[49m\n\u001b[0;32m    504\u001b[0m \u001b[38;5;66;03m# We are swallowing BrokenPipeError (errno.EPIPE) since the server is\u001b[39;00m\n\u001b[0;32m    505\u001b[0m \u001b[38;5;66;03m# legitimately able to close the connection after sending a valid response.\u001b[39;00m\n\u001b[0;32m    506\u001b[0m \u001b[38;5;66;03m# With this behaviour, the received response is still readable.\u001b[39;00m\n",
      "File \u001b[1;32m~\\AppData\\Roaming\\Python\\Python312\\site-packages\\urllib3\\connection.py:445\u001b[0m, in \u001b[0;36mHTTPConnection.request\u001b[1;34m(self, method, url, body, headers, chunked, preload_content, decode_content, enforce_content_length)\u001b[0m\n\u001b[0;32m    444\u001b[0m     \u001b[38;5;28mself\u001b[39m\u001b[38;5;241m.\u001b[39mputheader(header, value)\n\u001b[1;32m--> 445\u001b[0m \u001b[38;5;28;43mself\u001b[39;49m\u001b[38;5;241;43m.\u001b[39;49m\u001b[43mendheaders\u001b[49m\u001b[43m(\u001b[49m\u001b[43m)\u001b[49m\n\u001b[0;32m    447\u001b[0m \u001b[38;5;66;03m# If we're given a body we start sending that in chunks.\u001b[39;00m\n",
      "File \u001b[1;32mC:\\ProgramData\\anaconda3\\Lib\\http\\client.py:1331\u001b[0m, in \u001b[0;36mHTTPConnection.endheaders\u001b[1;34m(self, message_body, encode_chunked)\u001b[0m\n\u001b[0;32m   1330\u001b[0m     \u001b[38;5;28;01mraise\u001b[39;00m CannotSendHeader()\n\u001b[1;32m-> 1331\u001b[0m \u001b[38;5;28;43mself\u001b[39;49m\u001b[38;5;241;43m.\u001b[39;49m\u001b[43m_send_output\u001b[49m\u001b[43m(\u001b[49m\u001b[43mmessage_body\u001b[49m\u001b[43m,\u001b[49m\u001b[43m \u001b[49m\u001b[43mencode_chunked\u001b[49m\u001b[38;5;241;43m=\u001b[39;49m\u001b[43mencode_chunked\u001b[49m\u001b[43m)\u001b[49m\n",
      "File \u001b[1;32mC:\\ProgramData\\anaconda3\\Lib\\http\\client.py:1091\u001b[0m, in \u001b[0;36mHTTPConnection._send_output\u001b[1;34m(self, message_body, encode_chunked)\u001b[0m\n\u001b[0;32m   1090\u001b[0m \u001b[38;5;28;01mdel\u001b[39;00m \u001b[38;5;28mself\u001b[39m\u001b[38;5;241m.\u001b[39m_buffer[:]\n\u001b[1;32m-> 1091\u001b[0m \u001b[38;5;28;43mself\u001b[39;49m\u001b[38;5;241;43m.\u001b[39;49m\u001b[43msend\u001b[49m\u001b[43m(\u001b[49m\u001b[43mmsg\u001b[49m\u001b[43m)\u001b[49m\n\u001b[0;32m   1093\u001b[0m \u001b[38;5;28;01mif\u001b[39;00m message_body \u001b[38;5;129;01mis\u001b[39;00m \u001b[38;5;129;01mnot\u001b[39;00m \u001b[38;5;28;01mNone\u001b[39;00m:\n\u001b[0;32m   1094\u001b[0m \n\u001b[0;32m   1095\u001b[0m     \u001b[38;5;66;03m# create a consistent interface to message_body\u001b[39;00m\n",
      "File \u001b[1;32mC:\\ProgramData\\anaconda3\\Lib\\http\\client.py:1035\u001b[0m, in \u001b[0;36mHTTPConnection.send\u001b[1;34m(self, data)\u001b[0m\n\u001b[0;32m   1034\u001b[0m \u001b[38;5;28;01mif\u001b[39;00m \u001b[38;5;28mself\u001b[39m\u001b[38;5;241m.\u001b[39mauto_open:\n\u001b[1;32m-> 1035\u001b[0m     \u001b[38;5;28;43mself\u001b[39;49m\u001b[38;5;241;43m.\u001b[39;49m\u001b[43mconnect\u001b[49m\u001b[43m(\u001b[49m\u001b[43m)\u001b[49m\n\u001b[0;32m   1036\u001b[0m \u001b[38;5;28;01melse\u001b[39;00m:\n",
      "File \u001b[1;32m~\\AppData\\Roaming\\Python\\Python312\\site-packages\\urllib3\\connection.py:276\u001b[0m, in \u001b[0;36mHTTPConnection.connect\u001b[1;34m(self)\u001b[0m\n\u001b[0;32m    275\u001b[0m \u001b[38;5;28;01mdef\u001b[39;00m \u001b[38;5;21mconnect\u001b[39m(\u001b[38;5;28mself\u001b[39m) \u001b[38;5;241m-\u001b[39m\u001b[38;5;241m>\u001b[39m \u001b[38;5;28;01mNone\u001b[39;00m:\n\u001b[1;32m--> 276\u001b[0m     \u001b[38;5;28mself\u001b[39m\u001b[38;5;241m.\u001b[39msock \u001b[38;5;241m=\u001b[39m \u001b[38;5;28;43mself\u001b[39;49m\u001b[38;5;241;43m.\u001b[39;49m\u001b[43m_new_conn\u001b[49m\u001b[43m(\u001b[49m\u001b[43m)\u001b[49m\n\u001b[0;32m    277\u001b[0m     \u001b[38;5;28;01mif\u001b[39;00m \u001b[38;5;28mself\u001b[39m\u001b[38;5;241m.\u001b[39m_tunnel_host:\n\u001b[0;32m    278\u001b[0m         \u001b[38;5;66;03m# If we're tunneling it means we're connected to our proxy.\u001b[39;00m\n",
      "File \u001b[1;32m~\\AppData\\Roaming\\Python\\Python312\\site-packages\\urllib3\\connection.py:207\u001b[0m, in \u001b[0;36mHTTPConnection._new_conn\u001b[1;34m(self)\u001b[0m\n\u001b[0;32m    206\u001b[0m \u001b[38;5;28;01mexcept\u001b[39;00m SocketTimeout \u001b[38;5;28;01mas\u001b[39;00m e:\n\u001b[1;32m--> 207\u001b[0m     \u001b[38;5;28;01mraise\u001b[39;00m ConnectTimeoutError(\n\u001b[0;32m    208\u001b[0m         \u001b[38;5;28mself\u001b[39m,\n\u001b[0;32m    209\u001b[0m         \u001b[38;5;124mf\u001b[39m\u001b[38;5;124m\"\u001b[39m\u001b[38;5;124mConnection to \u001b[39m\u001b[38;5;132;01m{\u001b[39;00m\u001b[38;5;28mself\u001b[39m\u001b[38;5;241m.\u001b[39mhost\u001b[38;5;132;01m}\u001b[39;00m\u001b[38;5;124m timed out. (connect timeout=\u001b[39m\u001b[38;5;132;01m{\u001b[39;00m\u001b[38;5;28mself\u001b[39m\u001b[38;5;241m.\u001b[39mtimeout\u001b[38;5;132;01m}\u001b[39;00m\u001b[38;5;124m)\u001b[39m\u001b[38;5;124m\"\u001b[39m,\n\u001b[0;32m    210\u001b[0m     ) \u001b[38;5;28;01mfrom\u001b[39;00m \u001b[38;5;21;01me\u001b[39;00m\n\u001b[0;32m    212\u001b[0m \u001b[38;5;28;01mexcept\u001b[39;00m \u001b[38;5;167;01mOSError\u001b[39;00m \u001b[38;5;28;01mas\u001b[39;00m e:\n",
      "\u001b[1;31mConnectTimeoutError\u001b[0m: (<urllib3.connection.HTTPConnection object at 0x000001F28DDCDAF0>, 'Connection to api.open-notify.org timed out. (connect timeout=None)')",
      "\nThe above exception was the direct cause of the following exception:\n",
      "\u001b[1;31mMaxRetryError\u001b[0m                             Traceback (most recent call last)",
      "File \u001b[1;32m~\\AppData\\Roaming\\Python\\Python312\\site-packages\\requests\\adapters.py:667\u001b[0m, in \u001b[0;36mHTTPAdapter.send\u001b[1;34m(self, request, stream, timeout, verify, cert, proxies)\u001b[0m\n\u001b[0;32m    666\u001b[0m \u001b[38;5;28;01mtry\u001b[39;00m:\n\u001b[1;32m--> 667\u001b[0m     resp \u001b[38;5;241m=\u001b[39m \u001b[43mconn\u001b[49m\u001b[38;5;241;43m.\u001b[39;49m\u001b[43murlopen\u001b[49m\u001b[43m(\u001b[49m\n\u001b[0;32m    668\u001b[0m \u001b[43m        \u001b[49m\u001b[43mmethod\u001b[49m\u001b[38;5;241;43m=\u001b[39;49m\u001b[43mrequest\u001b[49m\u001b[38;5;241;43m.\u001b[39;49m\u001b[43mmethod\u001b[49m\u001b[43m,\u001b[49m\n\u001b[0;32m    669\u001b[0m \u001b[43m        \u001b[49m\u001b[43murl\u001b[49m\u001b[38;5;241;43m=\u001b[39;49m\u001b[43murl\u001b[49m\u001b[43m,\u001b[49m\n\u001b[0;32m    670\u001b[0m \u001b[43m        \u001b[49m\u001b[43mbody\u001b[49m\u001b[38;5;241;43m=\u001b[39;49m\u001b[43mrequest\u001b[49m\u001b[38;5;241;43m.\u001b[39;49m\u001b[43mbody\u001b[49m\u001b[43m,\u001b[49m\n\u001b[0;32m    671\u001b[0m \u001b[43m        \u001b[49m\u001b[43mheaders\u001b[49m\u001b[38;5;241;43m=\u001b[39;49m\u001b[43mrequest\u001b[49m\u001b[38;5;241;43m.\u001b[39;49m\u001b[43mheaders\u001b[49m\u001b[43m,\u001b[49m\n\u001b[0;32m    672\u001b[0m \u001b[43m        \u001b[49m\u001b[43mredirect\u001b[49m\u001b[38;5;241;43m=\u001b[39;49m\u001b[38;5;28;43;01mFalse\u001b[39;49;00m\u001b[43m,\u001b[49m\n\u001b[0;32m    673\u001b[0m \u001b[43m        \u001b[49m\u001b[43massert_same_host\u001b[49m\u001b[38;5;241;43m=\u001b[39;49m\u001b[38;5;28;43;01mFalse\u001b[39;49;00m\u001b[43m,\u001b[49m\n\u001b[0;32m    674\u001b[0m \u001b[43m        \u001b[49m\u001b[43mpreload_content\u001b[49m\u001b[38;5;241;43m=\u001b[39;49m\u001b[38;5;28;43;01mFalse\u001b[39;49;00m\u001b[43m,\u001b[49m\n\u001b[0;32m    675\u001b[0m \u001b[43m        \u001b[49m\u001b[43mdecode_content\u001b[49m\u001b[38;5;241;43m=\u001b[39;49m\u001b[38;5;28;43;01mFalse\u001b[39;49;00m\u001b[43m,\u001b[49m\n\u001b[0;32m    676\u001b[0m \u001b[43m        \u001b[49m\u001b[43mretries\u001b[49m\u001b[38;5;241;43m=\u001b[39;49m\u001b[38;5;28;43mself\u001b[39;49m\u001b[38;5;241;43m.\u001b[39;49m\u001b[43mmax_retries\u001b[49m\u001b[43m,\u001b[49m\n\u001b[0;32m    677\u001b[0m \u001b[43m        \u001b[49m\u001b[43mtimeout\u001b[49m\u001b[38;5;241;43m=\u001b[39;49m\u001b[43mtimeout\u001b[49m\u001b[43m,\u001b[49m\n\u001b[0;32m    678\u001b[0m \u001b[43m        \u001b[49m\u001b[43mchunked\u001b[49m\u001b[38;5;241;43m=\u001b[39;49m\u001b[43mchunked\u001b[49m\u001b[43m,\u001b[49m\n\u001b[0;32m    679\u001b[0m \u001b[43m    \u001b[49m\u001b[43m)\u001b[49m\n\u001b[0;32m    681\u001b[0m \u001b[38;5;28;01mexcept\u001b[39;00m (ProtocolError, \u001b[38;5;167;01mOSError\u001b[39;00m) \u001b[38;5;28;01mas\u001b[39;00m err:\n",
      "File \u001b[1;32m~\\AppData\\Roaming\\Python\\Python312\\site-packages\\urllib3\\connectionpool.py:841\u001b[0m, in \u001b[0;36mHTTPConnectionPool.urlopen\u001b[1;34m(self, method, url, body, headers, retries, redirect, assert_same_host, timeout, pool_timeout, release_conn, chunked, body_pos, preload_content, decode_content, **response_kw)\u001b[0m\n\u001b[0;32m    839\u001b[0m     new_e \u001b[38;5;241m=\u001b[39m ProtocolError(\u001b[38;5;124m\"\u001b[39m\u001b[38;5;124mConnection aborted.\u001b[39m\u001b[38;5;124m\"\u001b[39m, new_e)\n\u001b[1;32m--> 841\u001b[0m retries \u001b[38;5;241m=\u001b[39m \u001b[43mretries\u001b[49m\u001b[38;5;241;43m.\u001b[39;49m\u001b[43mincrement\u001b[49m\u001b[43m(\u001b[49m\n\u001b[0;32m    842\u001b[0m \u001b[43m    \u001b[49m\u001b[43mmethod\u001b[49m\u001b[43m,\u001b[49m\u001b[43m \u001b[49m\u001b[43murl\u001b[49m\u001b[43m,\u001b[49m\u001b[43m \u001b[49m\u001b[43merror\u001b[49m\u001b[38;5;241;43m=\u001b[39;49m\u001b[43mnew_e\u001b[49m\u001b[43m,\u001b[49m\u001b[43m \u001b[49m\u001b[43m_pool\u001b[49m\u001b[38;5;241;43m=\u001b[39;49m\u001b[38;5;28;43mself\u001b[39;49m\u001b[43m,\u001b[49m\u001b[43m \u001b[49m\u001b[43m_stacktrace\u001b[49m\u001b[38;5;241;43m=\u001b[39;49m\u001b[43msys\u001b[49m\u001b[38;5;241;43m.\u001b[39;49m\u001b[43mexc_info\u001b[49m\u001b[43m(\u001b[49m\u001b[43m)\u001b[49m\u001b[43m[\u001b[49m\u001b[38;5;241;43m2\u001b[39;49m\u001b[43m]\u001b[49m\n\u001b[0;32m    843\u001b[0m \u001b[43m\u001b[49m\u001b[43m)\u001b[49m\n\u001b[0;32m    844\u001b[0m retries\u001b[38;5;241m.\u001b[39msleep()\n",
      "File \u001b[1;32m~\\AppData\\Roaming\\Python\\Python312\\site-packages\\urllib3\\util\\retry.py:519\u001b[0m, in \u001b[0;36mRetry.increment\u001b[1;34m(self, method, url, response, error, _pool, _stacktrace)\u001b[0m\n\u001b[0;32m    518\u001b[0m     reason \u001b[38;5;241m=\u001b[39m error \u001b[38;5;129;01mor\u001b[39;00m ResponseError(cause)\n\u001b[1;32m--> 519\u001b[0m     \u001b[38;5;28;01mraise\u001b[39;00m MaxRetryError(_pool, url, reason) \u001b[38;5;28;01mfrom\u001b[39;00m \u001b[38;5;21;01mreason\u001b[39;00m  \u001b[38;5;66;03m# type: ignore[arg-type]\u001b[39;00m\n\u001b[0;32m    521\u001b[0m log\u001b[38;5;241m.\u001b[39mdebug(\u001b[38;5;124m\"\u001b[39m\u001b[38;5;124mIncremented Retry for (url=\u001b[39m\u001b[38;5;124m'\u001b[39m\u001b[38;5;132;01m%s\u001b[39;00m\u001b[38;5;124m'\u001b[39m\u001b[38;5;124m): \u001b[39m\u001b[38;5;132;01m%r\u001b[39;00m\u001b[38;5;124m\"\u001b[39m, url, new_retry)\n",
      "\u001b[1;31mMaxRetryError\u001b[0m: HTTPConnectionPool(host='api.open-notify.org', port=80): Max retries exceeded with url: /astros.json (Caused by ConnectTimeoutError(<urllib3.connection.HTTPConnection object at 0x000001F28DDCDAF0>, 'Connection to api.open-notify.org timed out. (connect timeout=None)'))",
      "\nDuring handling of the above exception, another exception occurred:\n",
      "\u001b[1;31mConnectTimeout\u001b[0m                            Traceback (most recent call last)",
      "Cell \u001b[1;32mIn[16], line 4\u001b[0m\n\u001b[0;32m      1\u001b[0m \u001b[38;5;66;03m# 1. Fetch data from API\u001b[39;00m\n\u001b[0;32m      3\u001b[0m url \u001b[38;5;241m=\u001b[39m \u001b[38;5;124m\"\u001b[39m\u001b[38;5;124mhttp://api.open-notify.org/astros.json\u001b[39m\u001b[38;5;124m\"\u001b[39m\n\u001b[1;32m----> 4\u001b[0m response\u001b[38;5;241m=\u001b[39m \u001b[43mrequests\u001b[49m\u001b[38;5;241;43m.\u001b[39;49m\u001b[43mget\u001b[49m\u001b[43m(\u001b[49m\u001b[43murl\u001b[49m\u001b[43m)\u001b[49m\n\u001b[0;32m      5\u001b[0m data\u001b[38;5;241m=\u001b[39m response\u001b[38;5;241m.\u001b[39mjson()\n",
      "File \u001b[1;32m~\\AppData\\Roaming\\Python\\Python312\\site-packages\\requests\\api.py:73\u001b[0m, in \u001b[0;36mget\u001b[1;34m(url, params, **kwargs)\u001b[0m\n\u001b[0;32m     62\u001b[0m \u001b[38;5;28;01mdef\u001b[39;00m \u001b[38;5;21mget\u001b[39m(url, params\u001b[38;5;241m=\u001b[39m\u001b[38;5;28;01mNone\u001b[39;00m, \u001b[38;5;241m*\u001b[39m\u001b[38;5;241m*\u001b[39mkwargs):\n\u001b[0;32m     63\u001b[0m \u001b[38;5;250m    \u001b[39m\u001b[38;5;124mr\u001b[39m\u001b[38;5;124;03m\"\"\"Sends a GET request.\u001b[39;00m\n\u001b[0;32m     64\u001b[0m \n\u001b[0;32m     65\u001b[0m \u001b[38;5;124;03m    :param url: URL for the new :class:`Request` object.\u001b[39;00m\n\u001b[1;32m   (...)\u001b[0m\n\u001b[0;32m     70\u001b[0m \u001b[38;5;124;03m    :rtype: requests.Response\u001b[39;00m\n\u001b[0;32m     71\u001b[0m \u001b[38;5;124;03m    \"\"\"\u001b[39;00m\n\u001b[1;32m---> 73\u001b[0m     \u001b[38;5;28;01mreturn\u001b[39;00m \u001b[43mrequest\u001b[49m\u001b[43m(\u001b[49m\u001b[38;5;124;43m\"\u001b[39;49m\u001b[38;5;124;43mget\u001b[39;49m\u001b[38;5;124;43m\"\u001b[39;49m\u001b[43m,\u001b[49m\u001b[43m \u001b[49m\u001b[43murl\u001b[49m\u001b[43m,\u001b[49m\u001b[43m \u001b[49m\u001b[43mparams\u001b[49m\u001b[38;5;241;43m=\u001b[39;49m\u001b[43mparams\u001b[49m\u001b[43m,\u001b[49m\u001b[43m \u001b[49m\u001b[38;5;241;43m*\u001b[39;49m\u001b[38;5;241;43m*\u001b[39;49m\u001b[43mkwargs\u001b[49m\u001b[43m)\u001b[49m\n",
      "File \u001b[1;32m~\\AppData\\Roaming\\Python\\Python312\\site-packages\\requests\\api.py:59\u001b[0m, in \u001b[0;36mrequest\u001b[1;34m(method, url, **kwargs)\u001b[0m\n\u001b[0;32m     55\u001b[0m \u001b[38;5;66;03m# By using the 'with' statement we are sure the session is closed, thus we\u001b[39;00m\n\u001b[0;32m     56\u001b[0m \u001b[38;5;66;03m# avoid leaving sockets open which can trigger a ResourceWarning in some\u001b[39;00m\n\u001b[0;32m     57\u001b[0m \u001b[38;5;66;03m# cases, and look like a memory leak in others.\u001b[39;00m\n\u001b[0;32m     58\u001b[0m \u001b[38;5;28;01mwith\u001b[39;00m sessions\u001b[38;5;241m.\u001b[39mSession() \u001b[38;5;28;01mas\u001b[39;00m session:\n\u001b[1;32m---> 59\u001b[0m     \u001b[38;5;28;01mreturn\u001b[39;00m \u001b[43msession\u001b[49m\u001b[38;5;241;43m.\u001b[39;49m\u001b[43mrequest\u001b[49m\u001b[43m(\u001b[49m\u001b[43mmethod\u001b[49m\u001b[38;5;241;43m=\u001b[39;49m\u001b[43mmethod\u001b[49m\u001b[43m,\u001b[49m\u001b[43m \u001b[49m\u001b[43murl\u001b[49m\u001b[38;5;241;43m=\u001b[39;49m\u001b[43murl\u001b[49m\u001b[43m,\u001b[49m\u001b[43m \u001b[49m\u001b[38;5;241;43m*\u001b[39;49m\u001b[38;5;241;43m*\u001b[39;49m\u001b[43mkwargs\u001b[49m\u001b[43m)\u001b[49m\n",
      "File \u001b[1;32m~\\AppData\\Roaming\\Python\\Python312\\site-packages\\requests\\sessions.py:589\u001b[0m, in \u001b[0;36mSession.request\u001b[1;34m(self, method, url, params, data, headers, cookies, files, auth, timeout, allow_redirects, proxies, hooks, stream, verify, cert, json)\u001b[0m\n\u001b[0;32m    584\u001b[0m send_kwargs \u001b[38;5;241m=\u001b[39m {\n\u001b[0;32m    585\u001b[0m     \u001b[38;5;124m\"\u001b[39m\u001b[38;5;124mtimeout\u001b[39m\u001b[38;5;124m\"\u001b[39m: timeout,\n\u001b[0;32m    586\u001b[0m     \u001b[38;5;124m\"\u001b[39m\u001b[38;5;124mallow_redirects\u001b[39m\u001b[38;5;124m\"\u001b[39m: allow_redirects,\n\u001b[0;32m    587\u001b[0m }\n\u001b[0;32m    588\u001b[0m send_kwargs\u001b[38;5;241m.\u001b[39mupdate(settings)\n\u001b[1;32m--> 589\u001b[0m resp \u001b[38;5;241m=\u001b[39m \u001b[38;5;28;43mself\u001b[39;49m\u001b[38;5;241;43m.\u001b[39;49m\u001b[43msend\u001b[49m\u001b[43m(\u001b[49m\u001b[43mprep\u001b[49m\u001b[43m,\u001b[49m\u001b[43m \u001b[49m\u001b[38;5;241;43m*\u001b[39;49m\u001b[38;5;241;43m*\u001b[39;49m\u001b[43msend_kwargs\u001b[49m\u001b[43m)\u001b[49m\n\u001b[0;32m    591\u001b[0m \u001b[38;5;28;01mreturn\u001b[39;00m resp\n",
      "File \u001b[1;32m~\\AppData\\Roaming\\Python\\Python312\\site-packages\\requests\\sessions.py:703\u001b[0m, in \u001b[0;36mSession.send\u001b[1;34m(self, request, **kwargs)\u001b[0m\n\u001b[0;32m    700\u001b[0m start \u001b[38;5;241m=\u001b[39m preferred_clock()\n\u001b[0;32m    702\u001b[0m \u001b[38;5;66;03m# Send the request\u001b[39;00m\n\u001b[1;32m--> 703\u001b[0m r \u001b[38;5;241m=\u001b[39m \u001b[43madapter\u001b[49m\u001b[38;5;241;43m.\u001b[39;49m\u001b[43msend\u001b[49m\u001b[43m(\u001b[49m\u001b[43mrequest\u001b[49m\u001b[43m,\u001b[49m\u001b[43m \u001b[49m\u001b[38;5;241;43m*\u001b[39;49m\u001b[38;5;241;43m*\u001b[39;49m\u001b[43mkwargs\u001b[49m\u001b[43m)\u001b[49m\n\u001b[0;32m    705\u001b[0m \u001b[38;5;66;03m# Total elapsed time of the request (approximately)\u001b[39;00m\n\u001b[0;32m    706\u001b[0m elapsed \u001b[38;5;241m=\u001b[39m preferred_clock() \u001b[38;5;241m-\u001b[39m start\n",
      "File \u001b[1;32m~\\AppData\\Roaming\\Python\\Python312\\site-packages\\requests\\adapters.py:688\u001b[0m, in \u001b[0;36mHTTPAdapter.send\u001b[1;34m(self, request, stream, timeout, verify, cert, proxies)\u001b[0m\n\u001b[0;32m    685\u001b[0m \u001b[38;5;28;01mif\u001b[39;00m \u001b[38;5;28misinstance\u001b[39m(e\u001b[38;5;241m.\u001b[39mreason, ConnectTimeoutError):\n\u001b[0;32m    686\u001b[0m     \u001b[38;5;66;03m# TODO: Remove this in 3.0.0: see #2811\u001b[39;00m\n\u001b[0;32m    687\u001b[0m     \u001b[38;5;28;01mif\u001b[39;00m \u001b[38;5;129;01mnot\u001b[39;00m \u001b[38;5;28misinstance\u001b[39m(e\u001b[38;5;241m.\u001b[39mreason, NewConnectionError):\n\u001b[1;32m--> 688\u001b[0m         \u001b[38;5;28;01mraise\u001b[39;00m ConnectTimeout(e, request\u001b[38;5;241m=\u001b[39mrequest)\n\u001b[0;32m    690\u001b[0m \u001b[38;5;28;01mif\u001b[39;00m \u001b[38;5;28misinstance\u001b[39m(e\u001b[38;5;241m.\u001b[39mreason, ResponseError):\n\u001b[0;32m    691\u001b[0m     \u001b[38;5;28;01mraise\u001b[39;00m RetryError(e, request\u001b[38;5;241m=\u001b[39mrequest)\n",
      "\u001b[1;31mConnectTimeout\u001b[0m: HTTPConnectionPool(host='api.open-notify.org', port=80): Max retries exceeded with url: /astros.json (Caused by ConnectTimeoutError(<urllib3.connection.HTTPConnection object at 0x000001F28DDCDAF0>, 'Connection to api.open-notify.org timed out. (connect timeout=None)'))"
     ]
    }
   ],
   "source": [
    "# 1. Fetch data from API\n",
    "\n",
    "url = \"http://api.open-notify.org/astros.json\"\n",
    "response= requests.get(url)\n",
    "data= response.json()"
   ]
  },
  {
   "cell_type": "code",
   "execution_count": null,
   "id": "1e694fcc-9365-497d-9edc-7ac3763c81c0",
   "metadata": {},
   "outputs": [],
   "source": [
    "# 2. Convert to DataFrame\n",
    "\n",
    "people = data[\"people\"]\n",
    "df= pd.DataFrame(people)"
   ]
  },
  {
   "cell_type": "code",
   "execution_count": null,
   "id": "c3753e14-9953-4b5b-b5f7-864c15140194",
   "metadata": {},
   "outputs": [],
   "source": [
    "# 3. Clean and enrich data\n",
    "\n",
    "df = df.rename(columns={\"name\": \"Astronaut Name\", \"craft\":\"Spacecraft\"})\n",
    "df[\"Retrieved Time\"]= datetime.now(timezone.utc)\n",
    "df[\"Data Source\"] = \"Open Notify API\"\n"
   ]
  },
  {
   "cell_type": "code",
   "execution_count": null,
   "id": "f19a370b-814c-4945-a82b-01e91fa61286",
   "metadata": {},
   "outputs": [],
   "source": [
    "# 4. Save to CSV\n",
    "filename= \"astronaut_data_\" + datetime.now().strftime(\"%Y%m%d_%H%M%S\")+ \".csv\"\n",
    "df.to_csv(filename, index=False)\n",
    "print(f\"Data saved to {filename}\")\n"
   ]
  },
  {
   "cell_type": "code",
   "execution_count": null,
   "id": "c5c8a12c-6eab-4aa9-9ec6-a97b3cdceba1",
   "metadata": {},
   "outputs": [],
   "source": [
    "# 5. Create and save chart\n",
    "counts = df[\"Spacecraft\"].value_counts()\n",
    "\n",
    "plt.figure(figsize=(6,4))\n",
    "plt.bar(counts.index, counts.values, color= \"mediumseagreen\")\n",
    "plt.xlabel(\"Spacecraft\")\n",
    "plt.ylabel(\"Number of Astronaut\")\n",
    "plt.title(\"Astronaut per Spacecraft\")\n",
    "plt.grid(axis=\"y\")\n",
    "\n",
    "chart_filename= \"astronaut_per_spacecraft_\" + datetime.now().strftime(\"%Y%m%d_%H%M%S\") + \".png\"\n",
    "plt.savefig(chart_filename)\n",
    "plt.close()\n",
    "print(f\"chart saved to {chart_filename}\")"
   ]
  },
  {
   "cell_type": "markdown",
   "id": "3fda4865-fc00-4db6-9992-3179b7ea7c22",
   "metadata": {},
   "source": [
    "You should see:\n",
    "\n",
    "A message confirming the CSV was saved.\n",
    "\n",
    "A message confirming the chart PNG was saved.\n",
    "\n",
    "Two new files in your working directory.\n",
    "\n",
    "🟢 Step 3 – Understand What’s Happening\n",
    "Here’s what this script does step by step:\n",
    "\n",
    "✅ Fetches fresh data each time you run it\n",
    "✅ Converts it to a clean DataFrame\n",
    "✅ Adds:\n",
    "\n",
    "The current timestamp\n",
    "\n",
    "A data source label\n",
    "\n",
    "✅ Saves data with a unique filename (timestamped) so you don’t overwrite old files\n",
    "✅ Generates a bar chart and saves it as PNG\n",
    "\n"
   ]
  },
  {
   "cell_type": "markdown",
   "id": "cd20b052-0b9f-447e-b304-c2d55961e509",
   "metadata": {},
   "source": [
    " What You’ve DONE (Days 1–5)\n",
    "From the big project description, you have completed:\n",
    "\n",
    "✅ Scrapes real-time data from a public API\n",
    "\n",
    "You used the Open Notify API to get live astronaut data.\n",
    "\n",
    "✅ Includes automated data cleaning and transformation scripts\n",
    "\n",
    "You cleaned column names.\n",
    "\n",
    "Added timestamp columns.\n",
    "\n",
    "Created a repeatable data pipeline script.\n",
    "\n",
    "✅ Creates visualizations (Matplotlib)\n",
    "\n",
    "You built and saved bar and pie charts showing the data.\n",
    "\n",
    "✅ Stores the data\n",
    "\n",
    "You saved data to CSV files.\n",
    "\n",
    "❌ What is LEFT (Not Yet Done)\n",
    "These are the parts we haven’t implemented yet:\n",
    "\n",
    "❌ Stores the data in a SQL database (PostgreSQL/MySQL)\n",
    "\n",
    "So far you have used CSV, not an actual SQL database.\n",
    "\n",
    "This requires installing a database server or using SQLite.\n",
    "\n",
    "You would use libraries like SQLAlchemy or PyMySQL.\n",
    "\n",
    "❌ Exposes a REST API to retrieve processed data\n",
    "\n",
    "This means creating your own API so others can access the data.\n",
    "\n",
    "You do this using Flask or FastAPI.\n",
    "\n",
    "It requires learning routing, request/response handling.\n",
    "\n",
    "❌ Optionally, displays a simple dashboard using Flask/Dash\n",
    "\n",
    "This would let you show charts on a web page.\n",
    "\n",
    "You haven’t built a web dashboard yet.\n",
    "\n",
    "🟢 When You Use These Concepts\n",
    "I’ll break down where each skill fits in the remaining work:\n",
    "\n",
    "🟡 APIs and Web Frameworks (Flask / FastAPI)\n",
    "When you’ll use it:\n",
    "\n",
    "When you build your own REST API endpoint (e.g., /get-astronauts) to serve JSON data.\n",
    "\n",
    "When you create a dashboard web app (Flask or Dash).\n",
    "\n",
    "Topics you will apply:\n",
    "\n",
    "Routes: URLs your API responds to.\n",
    "\n",
    "Request Handling: Receiving user queries.\n",
    "\n",
    "Response Models: Sending JSON back.\n",
    "\n",
    "REST Principles: Clean API design.\n",
    "\n",
    "✅ You haven’t used this yet—it comes after you finish basic data processing.\n",
    "\n",
    "🟡 Databases (SQL)\n",
    "When you’ll use it:\n",
    "\n",
    "Instead of saving to CSV, you will save to and read from a SQL database (PostgreSQL/MySQL/SQLite).\n",
    "\n",
    "This makes your data pipeline more robust and professional.\n",
    "\n",
    "Topics you will apply:\n",
    "\n",
    "SQL basics (CREATE TABLE, INSERT, SELECT)\n",
    "\n",
    "Connecting Python to SQL with SQLAlchemy or PyMySQL.\n",
    "\n",
    "✅ You haven’t done this yet.\n",
    "\n",
    "🟡 Testing (unittest / pytest)\n",
    "When you’ll use it:\n",
    "\n",
    "After your code works, you can write tests to check:\n",
    "\n",
    "Does the API return data?\n",
    "\n",
    "Does the DataFrame have the expected columns?\n",
    "\n",
    "Do charts get created without errors?\n",
    "\n",
    "✅ Not yet done—this is typically one of the last steps.\n",
    "\n",
    "🟡 Version Control (Git)\n",
    "When you’ll use it:\n",
    "\n",
    "To manage your code.\n",
    "\n",
    "To keep track of versions and collaborate.\n",
    "\n",
    "To showcase your project on GitHub.\n",
    "\n",
    "✅ You can start this any time (I recommend after Day 6 when you clean up code).\n",
    "\n",
    "🎯 Summary of Progress\n",
    "✅ What you’ve completed:\n",
    "\n",
    "Python scripting basics\n",
    "\n",
    "Real-time API data fetching\n",
    "\n",
    "Data cleaning and enrichment\n",
    "\n",
    "CSV export\n",
    "\n",
    "Automated pipeline combining all steps\n",
    "\n",
    "Visualizations with Matplotlib\n",
    "\n",
    "✅ What remains if you want to finish the FULL big project:\n",
    "\n",
    "Store data in a SQL database\n",
    "\n",
    "Build your own REST API with Flask/FastAPI\n",
    "\n",
    "Create a dashboard to show data visually on a webpage\n",
    "\n",
    "Add automated testing\n",
    "\n",
    "Use Git for version control\n",
    "\n",
    "✅ IMPORTANT:\n",
    "Even if you stop here, you already have:\n",
    "\n",
    "A working data pipeline\n",
    "\n",
    "Clean code and charts\n",
    "\n",
    "A solid mini-project for your interview\n",
    "\n",
    "If you have limited time before your interview, you can focus on:\n",
    "✅ Polishing documentation\n",
    "✅ Practicing explaining what you built\n",
    "✅ Learning SQL basics and Flask routes at a high level"
   ]
  },
  {
   "cell_type": "markdown",
   "id": "50700d5f-8e0a-4e6a-aeab-87ed82d957e6",
   "metadata": {},
   "source": [
    "What We Will Do Next\n",
    "We’ll complete everything that’s left, step by step:\n",
    "\n",
    "1️⃣ Store data in a SQL database\n",
    "2️⃣ Build your own REST API with Flask\n",
    "3️⃣ Create a dashboard webpage\n",
    "4️⃣ Add automated testing\n",
    "5️⃣ Use Git for version control"
   ]
  },
  {
   "cell_type": "markdown",
   "id": "069e90ca-04b0-4261-9427-97059ed8cab7",
   "metadata": {},
   "source": [
    "Today: Part 1 – Store Data in a SQL Database\n",
    "This is the logical first step, because:\n",
    "✅ You already have clean Pandas DataFrames.\n",
    "✅ We can easily save them to SQL.\n",
    "✅ You’ll practice SQL basics."
   ]
  },
  {
   "cell_type": "markdown",
   "id": "32c2f03b-c3e0-44d4-931c-a3c2affa38bd",
   "metadata": {},
   "source": [
    "What Database Will We Use?\n",
    "For simplicity and no setup hassles, we’ll use SQLite, because:\n",
    "\n",
    "It requires no server installation.\n",
    "\n",
    "It saves data in a single .db file.\n",
    "\n",
    "It uses the same SQL syntax you’ll find in MySQL/PostgreSQL.\n",
    "\n",
    "Later, you can adapt this code to MySQL if you wish."
   ]
  },
  {
   "cell_type": "code",
   "execution_count": null,
   "id": "e2bafc87-b1de-495f-80ef-12ca23ff1759",
   "metadata": {},
   "outputs": [],
   "source": [
    "#Step 1 – Install Required Library\n",
    "\n",
    "!pip  install sqlalchemy"
   ]
  },
  {
   "cell_type": "markdown",
   "id": "6c1d1700-16ec-49e1-aa04-7a3c7cd81815",
   "metadata": {},
   "source": [
    "SQLAlchemy is the most popular way to work with SQL databases in Python."
   ]
  },
  {
   "cell_type": "code",
   "execution_count": null,
   "id": "28b4c5cb-a58e-47a4-aad3-fa4caaffecfd",
   "metadata": {},
   "outputs": [],
   "source": [
    "#Step 2 – Import Libraries\n",
    "import pandas as pd\n",
    "from sqlalchemy import create_engine"
   ]
  },
  {
   "cell_type": "markdown",
   "id": "e00edde5-707d-4567-9d58-94dc3fea7e1d",
   "metadata": {},
   "source": [
    "create_engine() lets you connect to your database."
   ]
  },
  {
   "cell_type": "code",
   "execution_count": null,
   "id": "eb5a8fab-fa43-4154-be52-f292ecf6cb17",
   "metadata": {},
   "outputs": [],
   "source": [
    "# Step 3 – Create SQLite Database Connection\n",
    "## Create (or connect to) SQLite database file\n",
    "engine= create_engine(\"sqlite:///astronauts_data.db\")\n",
    "\n",
    "# Check connection (no output means it's OK)"
   ]
  },
  {
   "cell_type": "markdown",
   "id": "e37e2ed5-7226-460f-8c8e-9d89d2a43b91",
   "metadata": {},
   "source": [
    "This will create a file called astronauts_data.db in your folder."
   ]
  },
  {
   "cell_type": "code",
   "execution_count": 19,
   "id": "69bedd99-07ca-4fc9-92c0-a6fbb9d6f31c",
   "metadata": {},
   "outputs": [
    {
     "name": "stdout",
     "output_type": "stream",
     "text": [
      "Data Saved to SQL Table 'astronauts'\n"
     ]
    }
   ],
   "source": [
    "#Step 4 – Save Your DataFrame to SQL Table\n",
    "#Assume you still have your DataFrame df from your pipeline script.\n",
    "#Save it to a SQL table called astronauts:\n",
    "\n",
    "df.to_sql(\"astronauts\", con=engine, if_exists= \"append\", index=False)\n",
    "print(\"Data Saved to SQL Table 'astronauts'\")"
   ]
  },
  {
   "cell_type": "markdown",
   "id": "0915f1bf-6576-4da4-b57f-1e199cf46402",
   "metadata": {},
   "source": [
    " What this does:\n",
    "\n",
    "If the table doesn’t exist, it creates it.\n",
    "\n",
    "If it exists, it adds (appends) new rows."
   ]
  },
  {
   "cell_type": "markdown",
   "id": "654afb72-295e-4fb6-a583-d157e88dcb6f",
   "metadata": {},
   "source": [
    "Step 5 – Read Data Back from SQL"
   ]
  },
  {
   "cell_type": "code",
   "execution_count": 20,
   "id": "671dc362-7ede-4f18-8d68-6e2686e64bda",
   "metadata": {},
   "outputs": [
    {
     "name": "stdout",
     "output_type": "stream",
     "text": [
      "   Spacecraft        Astronaut Name              Retrieved Time  \\\n",
      "0         ISS        Oleg Kononenko  2025-06-29 09:26:30.438776   \n",
      "1         ISS          Nikolai Chub  2025-06-29 09:26:30.438776   \n",
      "2         ISS  Tracy Caldwell Dyson  2025-06-29 09:26:30.438776   \n",
      "3         ISS      Matthew Dominick  2025-06-29 09:26:30.438776   \n",
      "4         ISS       Michael Barratt  2025-06-29 09:26:30.438776   \n",
      "5         ISS         Jeanette Epps  2025-06-29 09:26:30.438776   \n",
      "6         ISS   Alexander Grebenkin  2025-06-29 09:26:30.438776   \n",
      "7         ISS         Butch Wilmore  2025-06-29 09:26:30.438776   \n",
      "8         ISS       Sunita Williams  2025-06-29 09:26:30.438776   \n",
      "9    Tiangong            Li Guangsu  2025-06-29 09:26:30.438776   \n",
      "10   Tiangong               Li Cong  2025-06-29 09:26:30.438776   \n",
      "11   Tiangong            Ye Guangfu  2025-06-29 09:26:30.438776   \n",
      "\n",
      "        Data Source  \n",
      "0   Open Notify API  \n",
      "1   Open Notify API  \n",
      "2   Open Notify API  \n",
      "3   Open Notify API  \n",
      "4   Open Notify API  \n",
      "5   Open Notify API  \n",
      "6   Open Notify API  \n",
      "7   Open Notify API  \n",
      "8   Open Notify API  \n",
      "9   Open Notify API  \n",
      "10  Open Notify API  \n",
      "11  Open Notify API  \n"
     ]
    }
   ],
   "source": [
    "#Test reading your data to verify it saved correctly:\n",
    "# Read from SQL table\n",
    "df_from_sql= pd.read_sql(\"SELECT * FROM astronauts\", con=engine)\n",
    "\n",
    "print(df_from_sql)"
   ]
  },
  {
   "cell_type": "markdown",
   "id": "1039bfb0-dcdc-48e4-94ee-003f9e118a08",
   "metadata": {},
   "source": [
    "You should see the same rows you saved.\n",
    "\n",
    "You’ve now stored your data in a real relational database."
   ]
  },
  {
   "cell_type": "markdown",
   "id": "21f5d510-fcdd-49c5-a08e-91d1e6b5002e",
   "metadata": {},
   "source": [
    "To practice, try these:\n",
    "\n",
    "✅ Save your DataFrame again with new timestamp:\n",
    "\n",
    "Re-run the pipeline to get fresh data.\n",
    "\n",
    "Append to the table.\n",
    "\n",
    "Read back the table and confirm you see more rows."
   ]
  },
  {
   "cell_type": "code",
   "execution_count": 21,
   "id": "6e16b09d-d8ab-4ded-8b57-513505c56cc7",
   "metadata": {},
   "outputs": [],
   "source": [
    "#Re-run the API and data processing pipeline\n",
    "engine= create_engine(\"sqlite:///astronauts_data.db\")\n"
   ]
  },
  {
   "cell_type": "code",
   "execution_count": 22,
   "id": "5ea870bb-d620-44e0-ae7b-ca2867d725f7",
   "metadata": {},
   "outputs": [
    {
     "name": "stdout",
     "output_type": "stream",
     "text": [
      "New Data Appended to sql table 'astronauts'\n"
     ]
    }
   ],
   "source": [
    "# 2. Append the New Data to SQLite\n",
    "from sqlalchemy import create_engine\n",
    "\n",
    "# Connect to the SQLite database\n",
    "engine = create_engine(\"sqlite:///my_database.db\")\n",
    "\n",
    "# Append new data to the existing table\n",
    "df.to_sql(\"astronauts\", con=engine, if_exists= \"append\", index= False)\n",
    "\n",
    "print(\"New Data Appended to sql table 'astronauts'\")"
   ]
  },
  {
   "cell_type": "code",
   "execution_count": 23,
   "id": "7ebe73f9-f9b2-4f05-b03c-9626d8d537bf",
   "metadata": {},
   "outputs": [
    {
     "name": "stdout",
     "output_type": "stream",
     "text": [
      "   Spacecraft        Astronaut Name              Retrieved Time  \\\n",
      "0         ISS        Oleg Kononenko  2025-06-29 09:26:30.438776   \n",
      "1         ISS          Nikolai Chub  2025-06-29 09:26:30.438776   \n",
      "2         ISS  Tracy Caldwell Dyson  2025-06-29 09:26:30.438776   \n",
      "3         ISS      Matthew Dominick  2025-06-29 09:26:30.438776   \n",
      "4         ISS       Michael Barratt  2025-06-29 09:26:30.438776   \n",
      "5         ISS         Jeanette Epps  2025-06-29 09:26:30.438776   \n",
      "6         ISS   Alexander Grebenkin  2025-06-29 09:26:30.438776   \n",
      "7         ISS         Butch Wilmore  2025-06-29 09:26:30.438776   \n",
      "8         ISS       Sunita Williams  2025-06-29 09:26:30.438776   \n",
      "9    Tiangong            Li Guangsu  2025-06-29 09:26:30.438776   \n",
      "10   Tiangong               Li Cong  2025-06-29 09:26:30.438776   \n",
      "11   Tiangong            Ye Guangfu  2025-06-29 09:26:30.438776   \n",
      "\n",
      "        Data Source  \n",
      "0   Open Notify API  \n",
      "1   Open Notify API  \n",
      "2   Open Notify API  \n",
      "3   Open Notify API  \n",
      "4   Open Notify API  \n",
      "5   Open Notify API  \n",
      "6   Open Notify API  \n",
      "7   Open Notify API  \n",
      "8   Open Notify API  \n",
      "9   Open Notify API  \n",
      "10  Open Notify API  \n",
      "11  Open Notify API  \n",
      "Total rows in table: 12\n"
     ]
    }
   ],
   "source": [
    "# 3. Read Back the Table and Confirm\n",
    "import pandas as pd\n",
    "\n",
    "# Read the full table from the database\n",
    "full_df= pd.read_sql(\"SELECT *  FROM astronauts\", con=engine)\n",
    "\n",
    "# Show the full table\n",
    "print(full_df)\n",
    "\n",
    "# Optional: Confirm number of rows\n",
    "print(f\"Total rows in table: {len(full_df)}\")"
   ]
  },
  {
   "cell_type": "code",
   "execution_count": 25,
   "id": "dec7135f-08c4-4263-851b-babf17f884f5",
   "metadata": {},
   "outputs": [
    {
     "name": "stdout",
     "output_type": "stream",
     "text": [
      "C:\\Users\\Lenovo\n"
     ]
    }
   ],
   "source": [
    "import os\n",
    "print(os.getcwd())\n",
    "#This will create a file called astronauts_data.db in your folder.(location of astronauts_data.db)"
   ]
  },
  {
   "cell_type": "markdown",
   "id": "9f94b387-07db-4c6b-b3d2-6669a2275447",
   "metadata": {},
   "source": [
    " Part 2 – Build Your REST API with Flask\n",
    "\n",
    " Goal:\n",
    "You will create a simple Flask web application that:\n",
    "✅ Connects to your SQLite database\n",
    "✅ Fetches data\n",
    "✅ Returns it as JSON when you visit a URL\n",
    "\n",
    "✅ This is called exposing a REST API endpoint.\n",
    "\n"
   ]
  },
  {
   "cell_type": "code",
   "execution_count": 26,
   "id": "90e8529b-b27e-405d-862c-275ad6270141",
   "metadata": {},
   "outputs": [
    {
     "name": "stdout",
     "output_type": "stream",
     "text": [
      "Defaulting to user installation because normal site-packages is not writeable\n",
      "Requirement already satisfied: flask in c:\\programdata\\anaconda3\\lib\\site-packages (3.0.3)\n",
      "Requirement already satisfied: Werkzeug>=3.0.0 in c:\\programdata\\anaconda3\\lib\\site-packages (from flask) (3.0.3)\n",
      "Requirement already satisfied: Jinja2>=3.1.2 in c:\\users\\lenovo\\appdata\\roaming\\python\\python312\\site-packages (from flask) (3.1.4)\n",
      "Requirement already satisfied: itsdangerous>=2.1.2 in c:\\programdata\\anaconda3\\lib\\site-packages (from flask) (2.2.0)\n",
      "Requirement already satisfied: click>=8.1.3 in c:\\programdata\\anaconda3\\lib\\site-packages (from flask) (8.1.7)\n",
      "Requirement already satisfied: blinker>=1.6.2 in c:\\programdata\\anaconda3\\lib\\site-packages (from flask) (1.6.2)\n",
      "Requirement already satisfied: colorama in c:\\users\\lenovo\\appdata\\roaming\\python\\python312\\site-packages (from click>=8.1.3->flask) (0.4.6)\n",
      "Requirement already satisfied: MarkupSafe>=2.0 in c:\\users\\lenovo\\appdata\\roaming\\python\\python312\\site-packages (from Jinja2>=3.1.2->flask) (2.1.5)\n"
     ]
    }
   ],
   "source": [
    "# Step 1 – Install Flask\n",
    "!pip install flask"
   ]
  },
  {
   "cell_type": "markdown",
   "id": "fd67492a-913c-4bf9-a3fe-170526fd5738",
   "metadata": {},
   "source": [
    "Step 2 – Create a New Python Script\n",
    "✅ Important:\n",
    "Flask does not run well inside Jupyter Notebooks.\n",
    "You should create a .py file.\n",
    "\n"
   ]
  },
  {
   "cell_type": "markdown",
   "id": "17c72544-5034-4ac9-93aa-1f3d0363e5c2",
   "metadata": {},
   "source": [
    "How to do this:\n",
    "\n",
    "1️⃣ Open VS Code, Notepad++, or any text editor.\n",
    "2️⃣ Create a new file called:"
   ]
  },
  {
   "cell_type": "markdown",
   "id": "eb6413ad-0abd-4efc-8ad7-63d88bd91fb1",
   "metadata": {},
   "source": [
    "app.py\n",
    "Paste the following code (I’ll explain it below):"
   ]
  },
  {
   "cell_type": "markdown",
   "id": "8e8cc23c-55cd-45cc-91dc-9844b7551b27",
   "metadata": {},
   "source": [
    " Step 3 – Paste This Starter Flask API Code"
   ]
  },
  {
   "cell_type": "markdown",
   "id": "00c812ec-4121-43e3-b343-1db95f70c5c3",
   "metadata": {},
   "source": [
    "from flask import Flask, jsonify\n",
    "import pandas as pd\n",
    "from sqlalchemy import create_engine\n",
    "\n",
    "# Create Flask app\n",
    "app = Flask(__name__)\n",
    "\n",
    "# Create database engine\n",
    "engine = create_engine(\"sqlite:///astronauts_data.db\")\n",
    "\n",
    "@app.route(\"/\")\n",
    "def home():\n",
    "    return \"Astronauts API is running!\"\n",
    "\n",
    "@app.route(\"/api/astronauts\", methods=[\"GET\"])\n",
    "def get_astronauts():\n",
    "    # Read all data from the database\n",
    "    df = pd.read_sql(\"SELECT * FROM astronauts\", con=engine)\n",
    "    # Convert DataFrame to JSON records\n",
    "    data = df.to_dict(orient=\"records\")\n",
    "    return jsonify(data)\n",
    "\n",
    "if __name__ == \"__main__\":\n",
    "    app.run(debug=True)\n"
   ]
  },
  {
   "cell_type": "markdown",
   "id": "6d6b339d-3470-4d51-a48f-50712f3ac48b",
   "metadata": {},
   "source": [
    " Explanation:\n",
    "\n",
    "@app.route(\"/\"): Home page to confirm it’s working.\n",
    "\n",
    "@app.route(\"/api/astronauts\"): API endpoint that returns all rows as JSON.\n",
    "\n",
    "pandas reads data from SQLite.\n",
    "\n",
    "jsonify converts it to JSON response."
   ]
  },
  {
   "cell_type": "code",
   "execution_count": 27,
   "id": "40f6f1d5-d9f4-4bda-b334-ff7412ddc432",
   "metadata": {},
   "outputs": [
    {
     "name": "stdout",
     "output_type": "stream",
     "text": [
      "Data saved to SQL table 'astronauts'\n"
     ]
    }
   ],
   "source": [
    "from sqlalchemy import create_engine\n",
    "\n",
    "# Make sure the filename matches exactly\n",
    "engine = create_engine(\"sqlite:///astronauts_data.db\")\n",
    "\n",
    "# Save DataFrame to the SQL table\n",
    "df.to_sql(\"astronauts\", con=engine, if_exists=\"replace\", index=False)\n",
    "\n",
    "print(\"Data saved to SQL table 'astronauts'\")\n"
   ]
  },
  {
   "cell_type": "markdown",
   "id": "c8d73240-6433-47be-9923-31ee4c1b5888",
   "metadata": {},
   "source": [
    "Step 1 – Open Jupyter Notebook\n",
    "✅ Open the same Jupyter Notebook where you have your cleaned df.\n",
    "\n",
    "✅ Run this cell again:"
   ]
  },
  {
   "cell_type": "code",
   "execution_count": 28,
   "id": "ace6f5fc-9258-4fc6-b119-f8a1dbdba51c",
   "metadata": {},
   "outputs": [
    {
     "name": "stdout",
     "output_type": "stream",
     "text": [
      "   Spacecraft        Astronaut Name              Retrieved Time  \\\n",
      "0         ISS        Oleg Kononenko  2025-06-29 09:26:30.438776   \n",
      "1         ISS          Nikolai Chub  2025-06-29 09:26:30.438776   \n",
      "2         ISS  Tracy Caldwell Dyson  2025-06-29 09:26:30.438776   \n",
      "3         ISS      Matthew Dominick  2025-06-29 09:26:30.438776   \n",
      "4         ISS       Michael Barratt  2025-06-29 09:26:30.438776   \n",
      "5         ISS         Jeanette Epps  2025-06-29 09:26:30.438776   \n",
      "6         ISS   Alexander Grebenkin  2025-06-29 09:26:30.438776   \n",
      "7         ISS         Butch Wilmore  2025-06-29 09:26:30.438776   \n",
      "8         ISS       Sunita Williams  2025-06-29 09:26:30.438776   \n",
      "9    Tiangong            Li Guangsu  2025-06-29 09:26:30.438776   \n",
      "10   Tiangong               Li Cong  2025-06-29 09:26:30.438776   \n",
      "11   Tiangong            Ye Guangfu  2025-06-29 09:26:30.438776   \n",
      "\n",
      "        Data Source  \n",
      "0   Open Notify API  \n",
      "1   Open Notify API  \n",
      "2   Open Notify API  \n",
      "3   Open Notify API  \n",
      "4   Open Notify API  \n",
      "5   Open Notify API  \n",
      "6   Open Notify API  \n",
      "7   Open Notify API  \n",
      "8   Open Notify API  \n",
      "9   Open Notify API  \n",
      "10  Open Notify API  \n",
      "11  Open Notify API  \n"
     ]
    }
   ],
   "source": [
    "df_check = pd.read_sql(\"SELECT * FROM astronauts\", con=engine)\n",
    "print(df_check)\n"
   ]
  },
  {
   "cell_type": "code",
   "execution_count": 29,
   "id": "d795a649-5643-4b8b-9892-4abc9c43518f",
   "metadata": {},
   "outputs": [
    {
     "name": "stdout",
     "output_type": "stream",
     "text": [
      "C:\\Users\\Lenovo\n"
     ]
    }
   ],
   "source": [
    "import os\n",
    "print(os.getcwd())\n",
    "\n"
   ]
  },
  {
   "cell_type": "markdown",
   "id": "1304e1d7-5863-4dec-9af4-20a80850c0c8",
   "metadata": {},
   "source": [
    "Quick Recap of What You’ve Achieved\n",
    "✅ Created a Python data pipeline\n",
    "✅ Saved clean data into SQLite\n",
    "✅ Built a REST API using Flask\n",
    "✅ Verified the endpoint shows real astronaut data\n",
    "\n",
    "✅ Now you have a working API backend."
   ]
  },
  {
   "cell_type": "markdown",
   "id": "4e0eb695-2fca-44f1-ac1a-125b57a721dc",
   "metadata": {},
   "source": [
    "What’s Next?\n",
    "Now let’s move to Part 3 – Create a Dashboard Webpage to Show Data Visually.\n",
    "\n",
    " Part 3 – Create a Dashboard with Flask\n",
    "In this part, you’ll:\n",
    "✅ Use Flask to serve a web page\n",
    "✅ Display the data as an HTML table\n",
    "✅ Embed a chart image you generate with Matplotlib\n",
    "\n",
    "This makes your project feel like a real web app.\n",
    "\n",
    " Step 1 – Install Jinja2 (Usually Already Included)\n",
    "Flask uses Jinja2 templates to create HTML.\n",
    "✅ Usually, it’s already installed with Flask.\n",
    "✅ To be sure, in your terminal, run:"
   ]
  },
  {
   "cell_type": "code",
   "execution_count": null,
   "id": "da441bc8-1129-4e9d-829f-b94a90c2147b",
   "metadata": {},
   "outputs": [],
   "source": []
  }
 ],
 "metadata": {
  "kernelspec": {
   "display_name": "Python 3 (ipykernel)",
   "language": "python",
   "name": "python3"
  },
  "language_info": {
   "codemirror_mode": {
    "name": "ipython",
    "version": 3
   },
   "file_extension": ".py",
   "mimetype": "text/x-python",
   "name": "python",
   "nbconvert_exporter": "python",
   "pygments_lexer": "ipython3",
   "version": "3.12.7"
  }
 },
 "nbformat": 4,
 "nbformat_minor": 5
}
